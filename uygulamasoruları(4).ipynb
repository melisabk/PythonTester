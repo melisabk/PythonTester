{
 "cells": [
  {
   "cell_type": "markdown",
   "metadata": {},
   "source": [
    "* Kullanıcıdan alınan sayının faktöriyelini hesaplayan bir fonksiyon yazınız."
   ]
  },
  {
   "cell_type": "code",
   "execution_count": null,
   "metadata": {},
   "outputs": [],
   "source": [
    "#my solution\n",
    "def Factorial ():\n",
    "  \n",
    "  number = int (input(\"Enter your number \"))\n",
    "  factorial = 1\n",
    "  \n",
    "  if number >= 0:\n",
    "    for i in range (1, number+1): \n",
    "      factorial = factorial*i\n",
    "    print(\"Your number's factorial:\",factorial)\n",
    "  else:\n",
    "    print (\"You entered a number that cannot be calculated.\")\n",
    " \n",
    "Factorial ()"
   ]
  },
  {
   "cell_type": "code",
   "execution_count": 37,
   "metadata": {},
   "outputs": [
    {
     "data": {
      "text/plain": [
       "120"
      ]
     },
     "execution_count": 37,
     "metadata": {},
     "output_type": "execute_result"
    }
   ],
   "source": [
    "#ceydanur eğitmen\n",
    "\n",
    "def faktorialBul(number):\n",
    "  result = 1\n",
    "  while number>1:\n",
    "    result*=number\n",
    "    number-=1\n",
    "  return result\n",
    "\n",
    "faktorialBul(5)\n"
   ]
  },
  {
   "cell_type": "markdown",
   "metadata": {},
   "source": [
    "* Kullanıcıdan alınan sayının faktoriyeli hesaplayan recursive bir fonksiyon yazınız."
   ]
  },
  {
   "cell_type": "code",
   "execution_count": null,
   "metadata": {},
   "outputs": [],
   "source": [
    "#my solution\n",
    "def recursive_factorial(n):\n",
    "   if n == 0:\n",
    "       return n\n",
    "   else:\n",
    "       return n*recursive_factorial(n-1)\n",
    "\n",
    "num = 5\n",
    "\n",
    "print(\"The factorial of\", num, \"is\", recursive_factorial(num))"
   ]
  },
  {
   "cell_type": "code",
   "execution_count": 2,
   "metadata": {},
   "outputs": [
    {
     "data": {
      "text/plain": [
       "120"
      ]
     },
     "execution_count": 2,
     "metadata": {},
     "output_type": "execute_result"
    }
   ],
   "source": [
    "#ceydanur\n",
    "def factorialBul (number):\n",
    "    if number > 1:\n",
    "        return number * factorialBul(number-1)\n",
    "    else:\n",
    "        return 1\n",
    "factorialBul(5)"
   ]
  },
  {
   "cell_type": "markdown",
   "metadata": {},
   "source": [
    "* Kullanıcıdan alınan iki sayının ebob ve ekok değerlerini hesaplayan ve bu değerleri dönen bir fonksiyon yazınız."
   ]
  },
  {
   "cell_type": "code",
   "execution_count": 3,
   "metadata": {},
   "outputs": [
    {
     "name": "stdout",
     "output_type": "stream",
     "text": [
      "EBOB: 5\n",
      "EKOK:  120\n"
     ]
    }
   ],
   "source": [
    "#my solution\n",
    "def ebobekok():\n",
    "    firstNumber = int(input(\"Enter your first number : \"))\n",
    "    secondNumber = int(input(\"Enter your second number : \"))\n",
    "\n",
    "    if (firstNumber > secondNumber):\n",
    "        smallNumber = secondNumber\n",
    "    else:\n",
    "        smallNumber = firstNumber\n",
    "    for i in range(1,smallNumber+1): \n",
    "      if (firstNumber  % i  == 0) and (secondNumber % i  == 0):\n",
    "        ebob = i\n",
    "        ekok = (firstNumber * secondNumber) // ebob\n",
    "    \n",
    "    print (\"EBOB:\", ebob)\n",
    "    print (\"EKOK: \", ekok)\n",
    "\n",
    "ebobekok()"
   ]
  },
  {
   "cell_type": "code",
   "execution_count": 4,
   "metadata": {},
   "outputs": [
    {
     "data": {
      "text/plain": [
       "(10, 100.0)"
      ]
     },
     "execution_count": 4,
     "metadata": {},
     "output_type": "execute_result"
    }
   ],
   "source": [
    "#ceyda eğitmen\n",
    "def calculateEbobEkok(number1, number2):\n",
    "    minValue= min (number1, number2)\n",
    "    ebob = 1\n",
    "    for currentNumber in range (2,minValue +1):\n",
    "        if number1 % currentNumber == 0 and number2 % currentNumber == 0:\n",
    "            ebob = currentNumber\n",
    "    ekok = (number1 * number2) / ebob\n",
    "    return ebob, ekok\n",
    "calculateEbobEkok(20,50)"
   ]
  },
  {
   "cell_type": "markdown",
   "metadata": {},
   "source": [
    "* Kendisine verilen tam sayının mükemmel sayı olup olmadığını dönen bir fonksiyon yazınız.\n",
    "\n"
   ]
  },
  {
   "cell_type": "code",
   "execution_count": 37,
   "metadata": {},
   "outputs": [
    {
     "name": "stdout",
     "output_type": "stream",
     "text": [
      "It's a perfect number.\n"
     ]
    }
   ],
   "source": [
    "#my solution\n",
    "def isPerfect():\n",
    " number = int(input(\"Enter your number: \"))\n",
    " \n",
    " total = 0\n",
    " \n",
    " for i in range(1,number):\n",
    "     if(number %i == 0):\n",
    "        total += i\n",
    "        \n",
    " if(number == total):\n",
    "     print(\"It's a perfect number.\")\n",
    " else:\n",
    "     print(\"It's not a perfect number.\")\n",
    "\n",
    "isPerfect()\n",
    "\n"
   ]
  },
  {
   "cell_type": "code",
   "execution_count": null,
   "metadata": {},
   "outputs": [],
   "source": [
    "#ceyda\n",
    "\n",
    "def isPerfect(number):\n",
    "  sum = 0\n",
    "\n",
    "  for num in range(1,number):\n",
    "    if number % num == 0:\n",
    "      sum +=num\n",
    "  \n",
    "  return sum == number\n",
    "\n",
    "isPerfect(4)\n"
   ]
  },
  {
   "cell_type": "markdown",
   "metadata": {},
   "source": [
    "* Verilen aralıkta bulunan mükemmel sayıları ekrana yazdıran bir fonksiyon yazınız."
   ]
  },
  {
   "cell_type": "code",
   "execution_count": 25,
   "metadata": {},
   "outputs": [
    {
     "name": "stdout",
     "output_type": "stream",
     "text": [
      " 6 \n",
      " 28 \n",
      " 496 \n"
     ]
    }
   ],
   "source": [
    "#my solution\n",
    "#min,max değerlerini aldıktan sonra yukarıdaki fonksiyonu çağırarak da yapabilirsin.\n",
    "def perfect_number():\n",
    "\n",
    " min = int(input(\"Enter your min. value: \"))\n",
    " max = int(input(\"Enter your max. value: \"))\n",
    " \n",
    " for i in range(min, max - 1):\n",
    "     total = 0\n",
    "     for n in range(1, i - 1):\n",
    "         if(i % n == 0):\n",
    "             total = total + n       \n",
    "    \n",
    "     if(total == i):\n",
    "         print(\" %d \" %i)\n",
    "\n",
    "perfect_number()"
   ]
  },
  {
   "cell_type": "code",
   "execution_count": null,
   "metadata": {},
   "outputs": [],
   "source": [
    "#ceyda\n",
    "\n",
    "start = int(input(\"Başlangıç değerini giriniz: \"))\n",
    "finish = int(input(\"Bitiş değerini giriniz: \"))\n",
    "\n",
    "for i in range(start, finish):\n",
    "  if isPerfect(i):\n",
    "    print(i)\n"
   ]
  },
  {
   "cell_type": "markdown",
   "metadata": {},
   "source": [
    "* Kendisine verilen 3 sayının en büyüğünü ve en küçüğünü dönen bir fonksiyon yazınız."
   ]
  },
  {
   "cell_type": "code",
   "execution_count": 9,
   "metadata": {},
   "outputs": [
    {
     "name": "stdout",
     "output_type": "stream",
     "text": [
      "Little number =  5\n",
      "Big number =  7\n"
     ]
    }
   ],
   "source": [
    "#my solution\n",
    "def order():\n",
    "    num1 = int(input(\"Enter your first number: \"))\n",
    "    num2 = int(input(\"Enter your second number: \"))\n",
    "    num3 = int(input(\"Enter your thirth number: \"))\n",
    "\n",
    "    if (num1 >= num2) and (num1 >= num3):\n",
    "        bigNumber = num1\n",
    "    elif (num2 >= num1) and (num2 >= num3):\n",
    "        bigNumber = num2\n",
    "    else:\n",
    "        bigNumber= num3\n",
    "\n",
    "    \n",
    "\n",
    "    if (num1 <= num2) and (num1 <= num3):\n",
    "        littleNumber = num1\n",
    "    elif (num2 <= num1) and (num2 <= num3):\n",
    "        littleNumber = num2\n",
    "    else:\n",
    "        littleNumber= num3\n",
    "\n",
    "    print (\"Little number = \", littleNumber)\n",
    "    print (\"Big number = \", bigNumber)\n",
    "\n",
    "order()"
   ]
  },
  {
   "cell_type": "code",
   "execution_count": 40,
   "metadata": {},
   "outputs": [
    {
     "data": {
      "text/plain": [
       "(-5, 100)"
      ]
     },
     "execution_count": 40,
     "metadata": {},
     "output_type": "execute_result"
    }
   ],
   "source": [
    "#ceyda \n",
    "def ikiSayidanBulma(num1,num2):\n",
    "  return num1 if num1 < num2 else num2, num1 if num1> num2 else num2\n",
    "\n",
    "def ucSayidanBulma(num1,num2,num3):\n",
    "  kucuk, buyuk = ikiSayidanBulma(num1,num2)\n",
    "  kucuk, orta = ikiSayidanBulma(kucuk,num3)\n",
    "  orta, buyuk = ikiSayidanBulma(buyuk,num3)\n",
    "\n",
    "  return kucuk,buyuk\n",
    "\n",
    "ucSayidanBulma(-5,100,50)\n"
   ]
  },
  {
   "cell_type": "markdown",
   "metadata": {},
   "source": [
    "* Aşağıdaki şekilde 10 satır ve kolon vardır. Fakat kullanıcıdan girilen değere göre değişiklik gösterebilir.\n"
   ]
  },
  {
   "cell_type": "code",
   "execution_count": null,
   "metadata": {},
   "outputs": [],
   "source": [
    "#Ceydanur-Eğitmen\n",
    "rowCount= int (input (\"Enter your index and count number: \"))\n",
    "\n",
    "for rowIndex in range(rowCount +1):\n",
    "    if rowIndex == 0 or rowIndex == rowCount:\n",
    "        print(rowCount * \"*\")\n",
    "    else:\n",
    "        print(\"*\"+ (rowCount-2)* \" \" + \"*\")"
   ]
  },
  {
   "cell_type": "code",
   "execution_count": null,
   "metadata": {},
   "outputs": [],
   "source": [
    "#Ceydanur-eğitim çift for çözümü\n",
    "rowCount= int (input (\"Enter your index and count number: \"))\n",
    "\n",
    "for rowIndex in range (rowCount) :\n",
    "    for columnIndex in range (rowCount):\n",
    "        if rowIndex == 0 or rowIndex == rowCount -1 or columnIndex == 0 or columnIndex == rowCount -1:\n",
    "            print (\"*\", end= \"\")\n",
    "        else:\n",
    "            print(\" \", end= \"\")\n",
    "\n",
    "    print()"
   ]
  },
  {
   "cell_type": "code",
   "execution_count": null,
   "metadata": {},
   "outputs": [],
   "source": [
    "#irem\n",
    "num = int(input(\"Write how many rows and columns the rectangle to be created will have.: \"))\n",
    "\n",
    "for i in range(num + 1):\n",
    "  if i == 0 or i == num:\n",
    "    print(\"*\"*(num))\n",
    "\n",
    "  else:\n",
    "    print(\"*\" + \" \"*(num-2) + \"*\")\n"
   ]
  },
  {
   "cell_type": "markdown",
   "metadata": {},
   "source": [
    "* Aşağıdaki şekli çizdiriniz.\n",
    "\n",
    "Aşağıdaki şekilde 20 satır ve kolon vardır. Fakat kullanıcıdan girilen değere göre değişiklik gösterebilir.\n",
    "Şekil tek sayıda satır ve kolon ile beraber çizilmeye çalışıldığında düzgün sonuç vermeyebilir. Bundan dolayı kullanıcıdan alınan değeri 2 ile çarpabilirsiniz."
   ]
  },
  {
   "cell_type": "code",
   "execution_count": null,
   "metadata": {},
   "outputs": [],
   "source": [
    "rowCount = 20\n",
    "for rowIndex in range(rowCount +1):\n",
    "    if rowIndex == 0 or rowIndex == rowCount:\n",
    "        print(rowCount * \"*\")\n",
    "    elif  rowIndex == 1 or rowIndex == rowCount:\n",
    "        print(\"**\" + \" \"* (num-4) + \"**\" )\n",
    "    elif  rowIndex == 2 or rowIndex == rowCount:\n",
    "        print(\"*\" + \" \" + \"*\" + \" \"* (num-6) + \"*\" + \" \" + \"*\" )\n",
    "    elif  rowIndex == 3 or rowIndex == rowCount:\n",
    "        print(\"*\" + \" \" + \" \" +  \"*\" + \" \"* (num-8) + \"*\" + \" \" + \" \" + \"*\" )\n",
    "    elif  rowIndex == 4 or rowIndex == rowCount:\n",
    "        print(\"*\" + \" \"*3 +  \"*\" + \" \"* (num-10) + \"*\" + \" \"*3 +  \"*\" )\n",
    "    elif  rowIndex == 5 or rowIndex == rowCount:\n",
    "        print(\"*\" + \" \" *4  +  \"*\" + \" \"* (num-12) + \"*\" + \" \" *4  +  \"*\" )\n",
    "    elif  rowIndex == 6 or rowIndex == rowCount:\n",
    "        print(\"*\" + \" \" *5  +  \"*\" + \" \"* (num-14) + \"*\" + \" \" *5  +  \"*\" )\n",
    "    elif  rowIndex == 7 or rowIndex == rowCount:\n",
    "        print(\"*\" + \" \" *6  +  \"*\" + \" \"* (num-16) + \"*\" + \" \" *6  +  \"*\" )\n",
    "    elif  rowIndex == 8 or rowIndex == rowCount:\n",
    "        print(\"*\" + \" \" *7  +  \"*\" + \" \"* (num-18) + \"*\" + \" \" *7  +  \"*\" )\n",
    "    elif  rowIndex == 9 or rowIndex == rowCount:\n",
    "        print(\"*\" + \" \" *8  +  \"*\" + \" \"* (num-20) + \"*\" + \" \" *8  +  \"*\" )\n",
    "    elif  rowIndex == 10 or rowIndex == rowCount:\n",
    "        print(\"*\" + \" \" *8  +  \"*\" + \" \"* (num-20) + \"*\" + \" \" *8  +  \"*\" )\n",
    "    elif  rowIndex == 11 or rowIndex == rowCount:\n",
    "        print(\"*\" + \" \" *7  +  \"*\" + \" \"* (num-18) + \"*\" + \" \" *7  +  \"*\" )\n",
    "    elif  rowIndex == 12 or rowIndex == rowCount:\n",
    "        print(\"*\" + \" \" *6  +  \"*\" + \" \"* (num-16) + \"*\" + \" \" *6  +  \"*\" )\n",
    "    elif  rowIndex == 13 or rowIndex == rowCount:\n",
    "        print(\"*\" + \" \" *5  +  \"*\" + \" \"* (num-14) + \"*\" + \" \" *5  +  \"*\" )\n",
    "    elif  rowIndex == 14 or rowIndex == rowCount:\n",
    "        print(\"*\" + \" \" *4  +  \"*\" + \" \"* (num-12) + \"*\" + \" \" *4  +  \"*\" )\n",
    "    elif  rowIndex == 15 or rowIndex == rowCount:\n",
    "        print(\"*\" + \" \" *3  +  \"*\" + \" \"* (num-10) + \"*\" + \" \" *3  +  \"*\" )\n",
    "    elif  rowIndex == 16 or rowIndex == rowCount:\n",
    "        print(\"*\" + \" \" *2  +  \"*\" + \" \"* (num-8) + \"*\" + \" \" *2  +  \"*\" )\n",
    "    elif  rowIndex == 17 or rowIndex == rowCount:\n",
    "        print(\"*\" + \" \" +  \"*\" + \" \"* (num-6) + \"*\" + \" \"   +  \"*\" )\n",
    "    "
   ]
  },
  {
   "cell_type": "code",
   "execution_count": null,
   "metadata": {},
   "outputs": [],
   "source": [
    "#irem\n",
    "num = int(input())\n",
    "\n",
    "for i in range(num*2):\n",
    "  if i == 0 or i == num*2-1:\n",
    "    print(\"*\"*num*2)\n",
    "\n",
    "  elif i <= num-1:\n",
    "    print(\"*\" + \" \"*(i-1) + \"*\" + \" \"*(num-i-1)*2 + \"*\" + \" \"*(i-1) + \"*\")\n",
    "  \n",
    "  else:\n",
    "    print(\"*\" + \" \"* ((num*2)-i-2) + \"*\" + \" \"* (i - num)*2 + \"*\" + \" \"*((num*2)-i-2) + \"*\")\n"
   ]
  },
  {
   "cell_type": "code",
   "execution_count": null,
   "metadata": {},
   "outputs": [],
   "source": [
    "#ceydanur\n",
    "rowCount = int(input(\" satır ve sütun sayısını giriniz: \"))\n",
    "\n",
    "for rowIndex in range(rowCount):\n",
    "    for columnIndex in range (rowCount):\n",
    "        if (rowIndex == 0 or rowIndex == rowCount-1 or columnIndex == 0 or columnIndex == rowCount-1 or rowIndex == columnIndex or columnIndex == (rowCount - rowIndex -1)):\n",
    "            print(\"*\", end= \"\")\n",
    "        else:\n",
    "            print(\" \", end=\"\")\n",
    "    print()"
   ]
  }
 ],
 "metadata": {
  "kernelspec": {
   "display_name": "Python 3.10.5 64-bit",
   "language": "python",
   "name": "python3"
  },
  "language_info": {
   "codemirror_mode": {
    "name": "ipython",
    "version": 3
   },
   "file_extension": ".py",
   "mimetype": "text/x-python",
   "name": "python",
   "nbconvert_exporter": "python",
   "pygments_lexer": "ipython3",
   "version": "3.10.5"
  },
  "orig_nbformat": 4,
  "vscode": {
   "interpreter": {
    "hash": "62152218f5ae77fab72cd74f672204b070f3d26a6c6ea88577bcd7d0571ecb6a"
   }
  }
 },
 "nbformat": 4,
 "nbformat_minor": 2
}
