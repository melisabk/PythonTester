{
 "cells": [
  {
   "cell_type": "markdown",
   "metadata": {},
   "source": [
    "* Kullanıcıdan alınan sayının faktöriyelini hesaplayan bir fonksiyon yazınız."
   ]
  },
  {
   "cell_type": "code",
   "execution_count": null,
   "metadata": {},
   "outputs": [],
   "source": [
    "\n",
    "def Factorial ():\n",
    "  \n",
    "  number = int (input(\"Bir sayı giriniz: \"))\n",
    "  factorial = 1\n",
    "  \n",
    "  if number >= 0:\n",
    "    for i in range (1, number+1): \n",
    "      factorial = factorial*i\n",
    "    print(\"Girdiğiniz sayının faktöriyeli:\",factorial)\n",
    "  else:\n",
    "    print (\"Hesaplanamayan bir sayı girdiniz.\")\n",
    " \n",
    "calculationFactorial ()"
   ]
  },
  {
   "cell_type": "markdown",
   "metadata": {},
   "source": [
    "* Kullanıcıdan alınan sayının faktoriyeli hesaplayan recursive bir fonksiyon yazınız."
   ]
  },
  {
   "cell_type": "code",
   "execution_count": null,
   "metadata": {},
   "outputs": [],
   "source": [
    "def faktoriyel(x):\n",
    "    if x == 0:\n",
    "        return 1\n",
    "    else:\n",
    "        return x * faktoriyel(x-1)"
   ]
  },
  {
   "cell_type": "markdown",
   "metadata": {},
   "source": [
    "* Kullanıcıdan alınan iki sayının ebob ve ekok değerlerini hesaplayan ve bu değerleri dönen bir fonksiyon yazınız."
   ]
  },
  {
   "cell_type": "code",
   "execution_count": 5,
   "metadata": {},
   "outputs": [
    {
     "name": "stdout",
     "output_type": "stream",
     "text": [
      "EBOB: 1\n",
      "EKOK: 60\n"
     ]
    }
   ],
   "source": [
    "def ebobekok():\n",
    "    birinciSayi = int(input(\"Birinci Sayıyı Giriniz : \"))\n",
    "    ikinciSayi = int(input(\"İkinci Sayıyı Giriniz : \"))\n",
    "\n",
    "    if (birinciSayi > ikinciSayi):\n",
    "        kucuksayi = ikinciSayı\n",
    "    else:\n",
    "        kucuksayi = birinciSayi\n",
    "    for i in range(1,kucuksayi+1):\n",
    "      if (birinciSayi % i==0) and (ikinciSayi%i ==0):\n",
    "        ebob = i\n",
    "        ekok = (birinciSayi*ikinciSayi)//ebob\n",
    "    \n",
    "    print (\"EBOB:\", ebob)\n",
    "    print (\"EKOK:\", ekok)\n",
    "\n",
    "ebobekok()"
   ]
  },
  {
   "cell_type": "markdown",
   "metadata": {},
   "source": [
    "* Kendisine verilen tam sayının mükemmel sayı olup olmadığını dönen bir fonksiyon yazınız.\n",
    "\n"
   ]
  },
  {
   "cell_type": "code",
   "execution_count": null,
   "metadata": {},
   "outputs": [],
   "source": [
    "def isPerfect():\n",
    " number = int(input(\"Enter your number: \"))\n",
    " \n",
    " total = 0\n",
    " \n",
    " for i in range(1,number):\n",
    "     if(number %i == 0):\n",
    "        total +=i\n",
    "        \n",
    " if(number == total):\n",
    "     print(\"Mükemmel Sayidir.\")\n",
    " else:\n",
    "     print(\"Mükemmel Sayi Degildir\")\n",
    "\n",
    "isPerfect()\n"
   ]
  },
  {
   "cell_type": "markdown",
   "metadata": {},
   "source": [
    "* Verilen aralıkta bulunan mükemmel sayıları ekrana yazdıran bir fonksiyon yazınız."
   ]
  },
  {
   "cell_type": "code",
   "execution_count": 16,
   "metadata": {},
   "outputs": [
    {
     "ename": "TypeError",
     "evalue": "perfect_number() takes 0 positional arguments but 1 was given",
     "output_type": "error",
     "traceback": [
      "\u001b[1;31m---------------------------------------------------------------------------\u001b[0m",
      "\u001b[1;31mTypeError\u001b[0m                                 Traceback (most recent call last)",
      "Cell \u001b[1;32mIn [16], line 17\u001b[0m\n\u001b[0;32m     15\u001b[0m numbers\u001b[38;5;241m=\u001b[39m[]\n\u001b[0;32m     16\u001b[0m \u001b[38;5;28;01mfor\u001b[39;00m i \u001b[38;5;129;01min\u001b[39;00m \u001b[38;5;28mrange\u001b[39m(\u001b[38;5;241m1\u001b[39m,\u001b[38;5;241m1000\u001b[39m):\n\u001b[1;32m---> 17\u001b[0m     \u001b[38;5;28;01mif\u001b[39;00m ((perfect_number(i))\u001b[38;5;241m==\u001b[39m\u001b[38;5;28;01mTrue\u001b[39;00m):\n\u001b[0;32m     18\u001b[0m         numbers\u001b[38;5;241m.\u001b[39mappend(i)\n\u001b[0;32m     19\u001b[0m \u001b[38;5;28mprint\u001b[39m(numbers)\n",
      "\u001b[1;31mTypeError\u001b[0m: perfect_number() takes 0 positional arguments but 1 was given"
     ]
    }
   ],
   "source": [
    "#sayı aralığını 1-100 aldım.\n",
    "def perfect_number():\n",
    "    number=range(1,100)\n",
    "    i = 1\n",
    "    total = 0\n",
    "    while i > number:\n",
    "        if number % i:\n",
    "            total += i\n",
    "            i += i\n",
    "    if  total == number:\n",
    "        return True\n",
    "    else:\n",
    "        return False\n",
    "\n",
    "numbers=[]\n",
    "for i in range(1,1000):\n",
    "    if ((perfect_number(i))==True):\n",
    "        numbers.append(i)\n",
    "print(numbers)"
   ]
  },
  {
   "cell_type": "markdown",
   "metadata": {},
   "source": [
    "* Kendisine verilen 3 sayının en büyüğünü ve en küçüğünü dönen bir fonksiyon yazınız."
   ]
  },
  {
   "cell_type": "code",
   "execution_count": 19,
   "metadata": {},
   "outputs": [
    {
     "ename": "ValueError",
     "evalue": "invalid literal for int() with base 10: ''",
     "output_type": "error",
     "traceback": [
      "\u001b[1;31m---------------------------------------------------------------------------\u001b[0m",
      "\u001b[1;31mValueError\u001b[0m                                Traceback (most recent call last)",
      "Cell \u001b[1;32mIn [19], line 24\u001b[0m\n\u001b[0;32m     20\u001b[0m         littleNumber\u001b[38;5;241m=\u001b[39m num3\n\u001b[0;32m     22\u001b[0m     \u001b[38;5;28mprint\u001b[39m (\u001b[38;5;124m\"\u001b[39m\u001b[38;5;124mLittle number = \u001b[39m\u001b[38;5;124m\"\u001b[39m, littleNumber)\n\u001b[1;32m---> 24\u001b[0m order()\n",
      "Cell \u001b[1;32mIn [19], line 2\u001b[0m, in \u001b[0;36morder\u001b[1;34m()\u001b[0m\n\u001b[0;32m      1\u001b[0m \u001b[38;5;28;01mdef\u001b[39;00m \u001b[38;5;21morder\u001b[39m():\n\u001b[1;32m----> 2\u001b[0m     num1 \u001b[38;5;241m=\u001b[39m \u001b[38;5;28;43mint\u001b[39;49m\u001b[43m(\u001b[49m\u001b[38;5;28;43minput\u001b[39;49m\u001b[43m(\u001b[49m\u001b[38;5;124;43m\"\u001b[39;49m\u001b[38;5;124;43mFirst number: \u001b[39;49m\u001b[38;5;124;43m\"\u001b[39;49m\u001b[43m)\u001b[49m\u001b[43m)\u001b[49m\n\u001b[0;32m      3\u001b[0m     num2 \u001b[38;5;241m=\u001b[39m \u001b[38;5;28mint\u001b[39m(\u001b[38;5;28minput\u001b[39m(\u001b[38;5;124m\"\u001b[39m\u001b[38;5;124mSecond number: \u001b[39m\u001b[38;5;124m\"\u001b[39m))\n\u001b[0;32m      4\u001b[0m     num3 \u001b[38;5;241m=\u001b[39m \u001b[38;5;28mint\u001b[39m(\u001b[38;5;28minput\u001b[39m(\u001b[38;5;124m\"\u001b[39m\u001b[38;5;124mThirth number: \u001b[39m\u001b[38;5;124m\"\u001b[39m))\n",
      "\u001b[1;31mValueError\u001b[0m: invalid literal for int() with base 10: ''"
     ]
    }
   ],
   "source": [
    "def order():\n",
    "    num1 = int(input(\"First number: \"))\n",
    "    num2 = int(input(\"Second number: \"))\n",
    "    num3 = int(input(\"Thirth number: \"))\n",
    "\n",
    "    if (num1 >= num2) and (num1 >= num3):\n",
    "        bigNumber = num1\n",
    "    elif (num2 >= num1) and (num2 >= num3):\n",
    "        bigNumber = num2\n",
    "    else:\n",
    "        bigNumber= num3\n",
    "\n",
    "    \n",
    "\n",
    "    if (num1 <= num2) and (num1 <= num3):\n",
    "        littleNumber = num1\n",
    "    elif (num2 <= num1) and (num2 <= num3):\n",
    "        littleNumber = num2\n",
    "    else:\n",
    "        littleNumber= num3\n",
    "\n",
    "    print (\"Little number = \", littleNumber)\n",
    "    print (\"Big number = \", bigNumber)\n",
    "\n",
    "order()"
   ]
  },
  {
   "cell_type": "markdown",
   "metadata": {},
   "source": [
    "* Aşağıdaki şekilde 10 satır ve kolon vardır. Fakat kullanıcıdan girilen değere göre değişiklik gösterebilir.\n"
   ]
  },
  {
   "cell_type": "code",
   "execution_count": null,
   "metadata": {},
   "outputs": [],
   "source": []
  },
  {
   "cell_type": "markdown",
   "metadata": {},
   "source": [
    "* Aşağıdaki şekli çizdiriniz.\n",
    "\n",
    "Aşağıdaki şekilde 20 satır ve kolon vardır. Fakat kullanıcıdan girilen değere göre değişiklik gösterebilir.\n",
    "Şekil tek sayıda satır ve kolon ile beraber çizilmeye çalışıldığında düzgün sonuç vermeyebilir. Bundan dolayı kullanıcıdan alınan değeri 2 ile çarpabilirsiniz."
   ]
  },
  {
   "cell_type": "code",
   "execution_count": null,
   "metadata": {},
   "outputs": [],
   "source": []
  },
  {
   "cell_type": "markdown",
   "metadata": {},
   "source": []
  }
 ],
 "metadata": {
  "kernelspec": {
   "display_name": "Python 3.10.5 64-bit",
   "language": "python",
   "name": "python3"
  },
  "language_info": {
   "codemirror_mode": {
    "name": "ipython",
    "version": 3
   },
   "file_extension": ".py",
   "mimetype": "text/x-python",
   "name": "python",
   "nbconvert_exporter": "python",
   "pygments_lexer": "ipython3",
   "version": "3.10.5"
  },
  "orig_nbformat": 4,
  "vscode": {
   "interpreter": {
    "hash": "62152218f5ae77fab72cd74f672204b070f3d26a6c6ea88577bcd7d0571ecb6a"
   }
  }
 },
 "nbformat": 4,
 "nbformat_minor": 2
}
