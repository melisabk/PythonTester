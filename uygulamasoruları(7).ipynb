{
 "cells": [
  {
   "cell_type": "markdown",
   "metadata": {},
   "source": [
    "Örnek olarak verilen example.txt dosyasını\n",
    "\n",
    "* Read\n",
    "* Append\n",
    "* Write\n",
    "modlarında açınız."
   ]
  },
  {
   "cell_type": "code",
   "execution_count": 13,
   "metadata": {},
   "outputs": [
    {
     "ename": "SyntaxError",
     "evalue": "(unicode error) 'unicodeescape' codec can't decode bytes in position 2-3: truncated \\UXXXXXXXX escape (2881633124.py, line 2)",
     "output_type": "error",
     "traceback": [
      "\u001b[1;36m  Cell \u001b[1;32mIn [13], line 2\u001b[1;36m\u001b[0m\n\u001b[1;33m    file = open(\"C:\\Users\\Melisa BUYUKKOPRU\\Desktop\\example.txt\" , \"r\")\u001b[0m\n\u001b[1;37m                                                                 ^\u001b[0m\n\u001b[1;31mSyntaxError\u001b[0m\u001b[1;31m:\u001b[0m (unicode error) 'unicodeescape' codec can't decode bytes in position 2-3: truncated \\UXXXXXXXX escape\n"
     ]
    }
   ],
   "source": [
    "#ben\n",
    "file = open(\"C:\\Users\\Melisa BUYUKKOPRU\\Desktop\\example.txt\" , \"r\")  \n",
    "file = open(\"C:\\Users\\Melisa BUYUKKOPRU\\Desktop\\example.txt\" , \"a\")  \n",
    "file = open(\"C:\\Users\\Melisa BUYUKKOPRU\\Desktop\\example.txt\" , \"w\")  "
   ]
  },
  {
   "cell_type": "code",
   "execution_count": null,
   "metadata": {},
   "outputs": [
    {
     "name": "stdout",
     "output_type": "stream",
     "text": [
      "merhaba\n",
      "merhaba\n"
     ]
    }
   ],
   "source": [
    "#Ayşenin çözümü\n",
    "with open(\"example.txt\" , \"a\") as file:\n",
    "    file.write(\"merhaba\")\n",
    "\n",
    "with open(\"example.txt\", \"r\") as file:\n",
    "    print(file.read())\n",
    "\n",
    "with open(\"example.txt\", \"w\") as file:\n",
    "    file.write(\"merhaba\")\n",
    "\n",
    "with open(\"example.txt\",\"r\") as file:\n",
    "    print(file.read()) \n",
    "    #dizin atamasıyla yaparsan yukarıdaki gibi başka pcde sorun yaratabilri. / yönleri sorun yaratabilir. \n",
    "    #"
   ]
  },
  {
   "cell_type": "markdown",
   "metadata": {},
   "source": [
    "Soru XXX\n",
    "Kullanıcıdan ad ve soyad değerlerini alıp, bu değerleri example.txt dosyasına yazdırınız."
   ]
  },
  {
   "cell_type": "code",
   "execution_count": null,
   "metadata": {},
   "outputs": [
    {
     "name": "stdout",
     "output_type": "stream",
     "text": [
      "merhabamelisabüyükköprünamesurnameayse aktag 5 mel bk ab\n"
     ]
    }
   ],
   "source": [
    "name= input(\"enter your name\")\n",
    "surname = input(\"enter your surname\")\n",
    "\n",
    "with open(\"example.txt\" , \"a\") as file:\n",
    "    file.write(name + \" \" + surname + \" \")\n",
    "    file.write(\"a\")\n",
    "    file.write(\"b\")\n",
    "\n",
    "with open(\"example.txt\", \"r\") as file:\n",
    "    print(file.read())\n",
    "file.close()\n",
    "\n"
   ]
  },
  {
   "cell_type": "markdown",
   "metadata": {},
   "source": [
    "Kullanıcıdan yaş değerini alıp bu değeri example.txt dosyasına, dosyadaki verileri silmeden yazınız."
   ]
  },
  {
   "cell_type": "code",
   "execution_count": null,
   "metadata": {},
   "outputs": [
    {
     "name": "stdout",
     "output_type": "stream",
     "text": [
      "merhabamelisabüyükköprünamesurnameayse aktag 5 \n"
     ]
    }
   ],
   "source": [
    "age = input(\"enter your age\")\n",
    "\n",
    "with open(\"example.txt\" , \"a\") as file:\n",
    "    file.write(age + \" \" )\n",
    "\n",
    "with open(\"example.txt\", \"r\") as file:\n",
    "    print(file.read())\n",
    "file.close()"
   ]
  },
  {
   "cell_type": "markdown",
   "metadata": {},
   "source": [
    "example.txt dosyasının ilk 5 satırını okuyup ekrana yazdırınız."
   ]
  },
  {
   "cell_type": "code",
   "execution_count": 14,
   "metadata": {},
   "outputs": [
    {
     "name": "stdout",
     "output_type": "stream",
     "text": [
      "merhabamelisabüyükköprünamesurnameayse aktag 5 mel bk ab\n"
     ]
    }
   ],
   "source": [
    "#ben\n",
    "i = 5\n",
    "with open(\"example.txt\", \"r\") as f:\n",
    "    lines = f.readlines()\n",
    "    for i in lines:\n",
    "        print(i)\n"
   ]
  },
  {
   "cell_type": "code",
   "execution_count": 15,
   "metadata": {},
   "outputs": [
    {
     "name": "stdout",
     "output_type": "stream",
     "text": [
      "merhabamelisabüyükköprünamesurnameayse aktag 5 mel bk ab\n",
      "\n",
      "\n",
      "\n",
      "\n"
     ]
    }
   ],
   "source": [
    "#Ayşe\n",
    "\n",
    "with open(\"example.txt\" , \"r\") as file:\n",
    "    for i in range(5):\n",
    "        print(file.readline())\n",
    "        #satır satır okuyo lines satır satır tamaını okuyor."
   ]
  },
  {
   "cell_type": "code",
   "execution_count": 17,
   "metadata": {},
   "outputs": [
    {
     "name": "stdout",
     "output_type": "stream",
     "text": [
      "merhabamelisabüyükköprünamesurnameayse aktag 5 mel bk ab\n"
     ]
    }
   ],
   "source": [
    "with open(\"example.txt\", \"r\") as f:\n",
    "    lines = f.readlines()\n",
    "    for i in reversed(lines):\n",
    "        print(i)"
   ]
  },
  {
   "cell_type": "markdown",
   "metadata": {},
   "source": [
    "Ad, soyad,cinsiyet ve yaş alanlarından oluşan Person(kisi) adında bir sınıf oluşturunuz."
   ]
  },
  {
   "cell_type": "code",
   "execution_count": null,
   "metadata": {},
   "outputs": [],
   "source": [
    "class Person:\n",
    "    def __init__(self,ad,soyad,cinsiyet,yaş):\n",
    "        self.ad = ad\n",
    "        self.soyad = soyad\n",
    "        self.cinsiyet= cinsiyet\n",
    "        self.yaş = yaş\n",
    "    \n",
    "    \n"
   ]
  },
  {
   "cell_type": "markdown",
   "metadata": {},
   "source": [
    "Person sınıfını kalıtım alan ve maaş, şirket, departman, ülke alanlarını da içeren Employee(Calisan) adında yeni bir sınıf oluşturunuz."
   ]
  },
  {
   "cell_type": "code",
   "execution_count": null,
   "metadata": {},
   "outputs": [],
   "source": []
  },
  {
   "cell_type": "markdown",
   "metadata": {},
   "source": [
    "tempData.txt dosyasının ilk satırındaki verileri, oluşturduğunuz Person sınıfından bir nesne oluşturup onun içerisindeki ilgili alanlara yerleştiriniz."
   ]
  },
  {
   "cell_type": "code",
   "execution_count": null,
   "metadata": {},
   "outputs": [],
   "source": []
  },
  {
   "cell_type": "markdown",
   "metadata": {},
   "source": [
    "tempData.txt dosyasındaki tüm verileri Person sınıfının nesnelerinden oluşan bir listede tutunuz. Sonrasında oluşturduğunuz liste üzerinde aşağıdaki işlemleri yapınız.\n",
    "\n",
    "* Sorun çıkarmaması için her satırdaki '\\n' karakterini '' ile replace ediniz. (line.replace('\\n',''))\n",
    "* Adı 'A' ile başlayanları ekrana yazdırınız.\n",
    "* Adı 'A' ile soyadı ise 'S' ile başlayanları ekrana yazdırınız.\n",
    "* Yaşı 30'dan büyük olanları ekrana yazdırınız.\n",
    "* Yaşı 40'tan büyük ve 50'den küçük olanları ekrana yazdırınız.\n",
    "* Research and Development' departmanında çalışanları ekrana yazdırınız.\n",
    "* India'da yaşayanları ekrana yazdırınız.\n",
    "* San Marino'da yaşayıp 'Sales' departmanında çalışanları ekrana yazdırınız.\n",
    "* Sales' departmanında çalışıp maaşı 30000'den yüksek olanları ekrana yazdırınız.\n",
    "* Apple Inc.' şirketinde çalışıp cinsiyeti kadın olanları ekrana yazdırınız.\n",
    "* Apple Inc.' şirketinde çalışıp maaşı 30000'den az olanları ekrana yazdırınız.\n",
    "* Sales' departmanında çalışanların oranını ekrana yazdırınız.\n",
    "* IT' departmanında çalışanların oranını yazdırınız.\n",
    "* IT' departmanında çalışan ve cinsiyeti kadın olanların oranını ekrana yazdırınız.\n",
    "* IT' departmanında çalışan ve cinsiyeti kadın olanların, 'IT' departmanında çalışan ve cinsiyeti erkek olaranlara oranını ekrana yazdırınız."
   ]
  },
  {
   "cell_type": "code",
   "execution_count": null,
   "metadata": {},
   "outputs": [],
   "source": []
  }
 ],
 "metadata": {
  "kernelspec": {
   "display_name": "Python 3.10.5 64-bit",
   "language": "python",
   "name": "python3"
  },
  "language_info": {
   "codemirror_mode": {
    "name": "ipython",
    "version": 3
   },
   "file_extension": ".py",
   "mimetype": "text/x-python",
   "name": "python",
   "nbconvert_exporter": "python",
   "pygments_lexer": "ipython3",
   "version": "3.10.5"
  },
  "orig_nbformat": 4,
  "vscode": {
   "interpreter": {
    "hash": "62152218f5ae77fab72cd74f672204b070f3d26a6c6ea88577bcd7d0571ecb6a"
   }
  }
 },
 "nbformat": 4,
 "nbformat_minor": 2
}
