{
 "cells": [
  {
   "cell_type": "code",
   "execution_count": 51,
   "metadata": {},
   "outputs": [
    {
     "name": "stdout",
     "output_type": "stream",
     "text": [
      "*\n",
      "**\n",
      "***\n",
      "****\n",
      "*****\n"
     ]
    }
   ],
   "source": [
    "number= 5 #satırsayısı\n",
    "for i in range(1, number +1): #satırsayısının bir fazlaısna kadar gitmesi gerektiği için.\n",
    "  print(\"*\"*i)"
   ]
  },
  {
   "cell_type": "code",
   "execution_count": 52,
   "metadata": {},
   "outputs": [
    {
     "name": "stdout",
     "output_type": "stream",
     "text": [
      "*****\n",
      "****\n",
      "***\n",
      "**\n",
      "*\n"
     ]
    }
   ],
   "source": [
    "number= 5\n",
    "for i in range(5, 0, -1):\n",
    "  print(\"*\"*i)"
   ]
  },
  {
   "cell_type": "code",
   "execution_count": 53,
   "metadata": {},
   "outputs": [
    {
     "name": "stdout",
     "output_type": "stream",
     "text": [
      "*\n",
      "**\n",
      "***\n",
      "****\n",
      "*****\n"
     ]
    }
   ],
   "source": [
    "rowCount=5\n",
    "for rowIndex in range (1,rowCount+1):\n",
    "    print(rowIndex * '*')"
   ]
  },
  {
   "cell_type": "code",
   "execution_count": 54,
   "metadata": {},
   "outputs": [
    {
     "name": "stdout",
     "output_type": "stream",
     "text": [
      "*****\n",
      "****\n",
      "***\n",
      "**\n",
      "*\n"
     ]
    }
   ],
   "source": [
    "rowCount=5 \n",
    "for rowIndex in range(5,0,-1):\n",
    "    print(rowIndex * '*')"
   ]
  },
  {
   "cell_type": "code",
   "execution_count": 60,
   "metadata": {},
   "outputs": [
    {
     "name": "stdout",
     "output_type": "stream",
     "text": [
      "     *\n",
      "    **\n",
      "   ***\n",
      "  ****\n",
      " *****\n"
     ]
    }
   ],
   "source": [
    "rowIndex = 5  \n",
    "for n in range(1,rowIndex+1):\n",
    "    print(\" \"*(rowIndex-n), \"*\"*n)\n",
    "    ##satır sayısı- kaçıncı satır = boşluk sayısı\n",
    "#sütun sayısı - boşluk sayısı = yıldız sayısı\n"
   ]
  },
  {
   "cell_type": "code",
   "execution_count": 40,
   "metadata": {},
   "outputs": [
    {
     "name": "stdout",
     "output_type": "stream",
     "text": [
      "*****\n",
      "****\n",
      "***\n",
      "**\n",
      "*\n"
     ]
    }
   ],
   "source": [
    "#Ayse\n",
    "rowCount=5\n",
    "\n",
    "for rowIndex in range (rowCount):\n",
    "    print((rowCount-rowIndex)* '*')\n"
   ]
  },
  {
   "cell_type": "code",
   "execution_count": 65,
   "metadata": {},
   "outputs": [
    {
     "name": "stdout",
     "output_type": "stream",
     "text": [
      "    *\n",
      "   **\n",
      "  ***\n",
      " ****\n",
      "*****\n"
     ]
    }
   ],
   "source": [
    "#ayşe\n",
    "rowCount=5\n",
    "\n",
    "for rowIndex in range(1, rowCount+1):\n",
    "    print((rowCount - rowIndex) * ' '+ rowIndex * '*')"
   ]
  },
  {
   "cell_type": "code",
   "execution_count": 89,
   "metadata": {},
   "outputs": [
    {
     "name": "stdout",
     "output_type": "stream",
     "text": [
      "     * \n",
      "    ** \n",
      "   *** \n",
      "  **** \n",
      " ***** \n"
     ]
    }
   ],
   "source": [
    "#nihan\n",
    "#ÖĞRETİCİ ÇÖZÜM\n",
    "for i in range(5):\n",
    "    for j in range(i,5):\n",
    "        print(\"\",end=\" \")\n",
    "    for j in range(i+1):\n",
    "        print(\"*\", end=\"\")\n",
    "    print(\" \")"
   ]
  },
  {
   "cell_type": "code",
   "execution_count": 77,
   "metadata": {},
   "outputs": [
    {
     "name": "stdout",
     "output_type": "stream",
     "text": [
      "      * \n",
      "     * * \n",
      "    * * * \n",
      "   * * * * \n",
      "  * * * * * \n"
     ]
    }
   ],
   "source": [
    "for i in range(5):\n",
    "    for j in range(5,i,-1):\n",
    "        print(\"\",end=\" \")\n",
    "    for j in range(i+1):\n",
    "        print(\" \", end=\"*\")\n",
    "    print(\" \")"
   ]
  },
  {
   "cell_type": "code",
   "execution_count": 78,
   "metadata": {},
   "outputs": [
    {
     "name": "stdout",
     "output_type": "stream",
     "text": [
      "\n",
      "*\n",
      "**\n",
      "***\n",
      "****\n"
     ]
    }
   ],
   "source": [
    "rowCount=5\n",
    "for rowIndex in range(5,0,-1):\n",
    "   print((rowCount-rowIndex)* '*')"
   ]
  },
  {
   "cell_type": "code",
   "execution_count": 84,
   "metadata": {},
   "outputs": [
    {
     "name": "stdout",
     "output_type": "stream",
     "text": [
      "    *\n",
      "   **\n",
      "  ***\n",
      " ****\n",
      "*****\n"
     ]
    }
   ],
   "source": [
    "rowCount=5\n",
    "\n",
    "for rowIndex in range(1, rowCount+1):\n",
    "    print((rowCount - rowIndex) * ' '+ rowIndex * '*')"
   ]
  },
  {
   "cell_type": "code",
   "execution_count": 85,
   "metadata": {},
   "outputs": [
    {
     "name": "stdout",
     "output_type": "stream",
     "text": [
      "*****\n",
      "****\n",
      "***\n",
      "**\n",
      "*\n"
     ]
    }
   ],
   "source": [
    "rowCount=5\n",
    "\n",
    "for rowIndex in range (rowCount):\n",
    "    print((rowCount-rowIndex)* '*')"
   ]
  },
  {
   "cell_type": "code",
   "execution_count": 90,
   "metadata": {},
   "outputs": [
    {
     "name": "stdout",
     "output_type": "stream",
     "text": [
      "*****\n",
      " ****\n",
      "  ***\n",
      "   **\n",
      "    *\n"
     ]
    }
   ],
   "source": [
    "#Ayse\n",
    "rowCount=5\n",
    "for rowIndex in range(rowCount):\n",
    "    print(rowIndex * ' ' + (rowCount- rowIndex) * '*')"
   ]
  },
  {
   "cell_type": "code",
   "execution_count": 107,
   "metadata": {},
   "outputs": [
    {
     "name": "stdout",
     "output_type": "stream",
     "text": [
      "      *\n",
      "     * *\n",
      "    * * *\n",
      "   * * * *\n",
      "  * * * * *\n"
     ]
    }
   ],
   "source": [
    "for i in range(5):\n",
    "    for j in range(5,i,-1):\n",
    "        print(\"\",end=\" \")\n",
    "    for j in range(i+1):\n",
    "        print(\" \", end=\"*\")\n",
    "    print(\"\")"
   ]
  },
  {
   "cell_type": "code",
   "execution_count": 108,
   "metadata": {},
   "outputs": [
    {
     "name": "stdout",
     "output_type": "stream",
     "text": [
      "    *\n",
      "   **\n",
      "  ***\n",
      " ****\n",
      "*****\n",
      "*\n",
      "**\n",
      "***\n",
      "****\n",
      "*****\n"
     ]
    }
   ],
   "source": [
    "rowCount=5\n",
    "\n",
    "for rowIndex in range(1, rowCount+1):\n",
    "    print((rowCount - rowIndex) * ' '+ rowIndex * '*')\n",
    "\n",
    "for rowIndex in range (1,rowCount+1):\n",
    "    print(rowIndex * '*')"
   ]
  },
  {
   "cell_type": "code",
   "execution_count": 118,
   "metadata": {},
   "outputs": [
    {
     "name": "stdout",
     "output_type": "stream",
     "text": [
      "    **\n",
      "   ****\n",
      "  ******\n",
      " ********\n",
      "**********\n"
     ]
    }
   ],
   "source": [
    "#Ayse\n",
    "rowCount = 5\n",
    "\n",
    "for rowIndex in range(1,rowCount+1):\n",
    "    print( (rowCount-rowIndex) *' '+(rowIndex *2) * '*')"
   ]
  },
  {
   "cell_type": "code",
   "execution_count": 121,
   "metadata": {},
   "outputs": [
    {
     "name": "stdout",
     "output_type": "stream",
     "text": [
      "**********\n",
      " ********\n",
      "  ******\n",
      "   ****\n",
      "    **\n"
     ]
    }
   ],
   "source": [
    "#ayse\n",
    "rowCount = 5\n",
    "\n",
    "for rowIndex in range (rowCount):\n",
    "    print((rowIndex) * ' ' + ((rowCount - rowIndex) * 2) * '*')\n",
    "    "
   ]
  },
  {
   "cell_type": "code",
   "execution_count": 130,
   "metadata": {},
   "outputs": [],
   "source": [
    "#rüveyda\n",
    "\n",
    "for i in range(10,0-2):\n",
    "    print (\" \"*int ((10-i)/2), \"*\"*i)\n",
    "    "
   ]
  },
  {
   "cell_type": "code",
   "execution_count": 109,
   "metadata": {},
   "outputs": [
    {
     "name": "stdout",
     "output_type": "stream",
     "text": [
      "*        *\n",
      "**      **\n",
      "***    ***\n",
      "****  ****\n",
      "**********\n"
     ]
    }
   ],
   "source": [
    "for rowCount in range(1,rowIndex+1):\n",
    "       print(\"*\" * rowCount+\" \"* ((rowIndex-rowCount)*2) + \"*\"*rowCount)"
   ]
  },
  {
   "cell_type": "code",
   "execution_count": 134,
   "metadata": {},
   "outputs": [
    {
     "name": "stdout",
     "output_type": "stream",
     "text": [
      "\n",
      "**\n",
      "****\n",
      "******\n"
     ]
    }
   ],
   "source": [
    "#Ayşe\n",
    "\n",
    "for rowIndex in range ( rowCount +1):\n",
    "    print((rowIndex) * '*' + ((rowCount - rowIndex) * 2) * '' + rowIndex * '*')"
   ]
  },
  {
   "cell_type": "code",
   "execution_count": 1,
   "metadata": {},
   "outputs": [
    {
     "name": "stdout",
     "output_type": "stream",
     "text": [
      "Ebob: 1\n",
      "Ekok: 30.0\n"
     ]
    }
   ],
   "source": [
    "num1 =int(input (' '))\n",
    "num2 =int(input (' '))\n",
    "\n",
    "minValue= min(num1,num2) \n",
    "ebob=1\n",
    "\n",
    "for i in range(1,minValue +1):\n",
    "    if num1%i == 0 and num2 %i ==0:\n",
    "        ebob=i\n",
    "ekok= (num1 * num2) / ebob\n",
    "print(f'Ebob: {ebob}')\n",
    "print(f'Ekok: {ekok}')"
   ]
  }
 ],
 "metadata": {
  "kernelspec": {
   "display_name": "Python 3.10.5 64-bit",
   "language": "python",
   "name": "python3"
  },
  "language_info": {
   "codemirror_mode": {
    "name": "ipython",
    "version": 3
   },
   "file_extension": ".py",
   "mimetype": "text/x-python",
   "name": "python",
   "nbconvert_exporter": "python",
   "pygments_lexer": "ipython3",
   "version": "3.10.5"
  },
  "orig_nbformat": 4,
  "vscode": {
   "interpreter": {
    "hash": "62152218f5ae77fab72cd74f672204b070f3d26a6c6ea88577bcd7d0571ecb6a"
   }
  }
 },
 "nbformat": 4,
 "nbformat_minor": 2
}
