{
 "cells": [
  {
   "cell_type": "markdown",
   "metadata": {},
   "source": [
    "Aşağıdaki stringde verilen değeri, büyük harfe dönüştürmek ve tersine çevirmek için bir lambda fonksiyonu kullanın.\n",
    "SistersLab girdisi için beklenen çıktı 'BALSRETSİS'"
   ]
  },
  {
   "cell_type": "code",
   "execution_count": 9,
   "metadata": {},
   "outputs": [
    {
     "name": "stdout",
     "output_type": "stream",
     "text": [
      "BALSRETSIS\n"
     ]
    }
   ],
   "source": [
    "str1 = \"SistersLab\"\n",
    "revers_upper = lambda string: string.upper()[: : -1]\n",
    "print(revers_upper(str1))"
   ]
  },
  {
   "cell_type": "markdown",
   "metadata": {},
   "source": [
    "Girilen değer 5-10 arasında ise sayının 5 katını, 10'dan büyükse 10 katını dönen bir lambda fonksiyonu ve normal fonksiyon yazın."
   ]
  },
  {
   "cell_type": "code",
   "execution_count": null,
   "metadata": {},
   "outputs": [],
   "source": [
    "#my\n",
    "def Order():\n",
    "    num = int(input(\"Enter your number: \"))\n",
    "    if num > 5 and num < 10:\n",
    "        print(num * 5)\n",
    "    elif num > 10:\n",
    "        print(num * 10)\n",
    "    else:\n",
    "      print(\"fonksiyona uygun bir değer giriniz\")\n",
    "Order()\n"
   ]
  },
  {
   "cell_type": "code",
   "execution_count": 23,
   "metadata": {},
   "outputs": [
    {
     "data": {
      "text/plain": [
       "110"
      ]
     },
     "execution_count": 23,
     "metadata": {},
     "output_type": "execute_result"
    }
   ],
   "source": [
    "#ayse\n",
    "num = lambda x: x*10 if x > 10 else (x * 5 if x >5 else x) \n",
    "num(11)\n",
    "\n"
   ]
  },
  {
   "cell_type": "code",
   "execution_count": 25,
   "metadata": {},
   "outputs": [
    {
     "data": {
      "text/plain": [
       "110"
      ]
     },
     "execution_count": 25,
     "metadata": {},
     "output_type": "execute_result"
    }
   ],
   "source": [
    "\n",
    "def check_conditions(x):\n",
    "    if x > 10:\n",
    "        return x*10\n",
    "    elif x<5:\n",
    "        return x*5\n",
    "    else:\n",
    "        return x\n",
    "check_conditions(11)\n"
   ]
  },
  {
   "cell_type": "markdown",
   "metadata": {},
   "source": [
    "Listedeki sayılardan tek olanları lambda fonksiyonu kullanarak yazdırınız.\n",
    "list_ = [34, 12, 64, 57, 75, 13, 63, 3, 23, 232, 3453, 111211]"
   ]
  },
  {
   "cell_type": "code",
   "execution_count": 26,
   "metadata": {},
   "outputs": [
    {
     "name": "stdout",
     "output_type": "stream",
     "text": [
      "[57, 75, 13, 63, 3, 23, 3453, 111211]\n"
     ]
    }
   ],
   "source": [
    "list_ = [34, 12, 64, 57, 75, 13, 63, 3, 23, 232, 3453, 111211]\n",
    "\n",
    "print(list(filter(lambda x: x % 2 != 0,list_)))"
   ]
  },
  {
   "cell_type": "markdown",
   "metadata": {},
   "source": [
    "[0,1,2,3,4,5,6,7,9,10,12] Verilen listenin\n",
    "\n",
    "* 3.indexi ile 6.indexi arasındaki değerleri yazdırınız.\n",
    "* Listeyi tersten yazdırınız.\n",
    "* Listeye 10'dan sonra olacak şekilde 11 değerini ekleyiniz.\n",
    "* Listenin en başına -15 değerini ekleyiniz.\n",
    "* Listenin sonundaki değeri siliniz ve ekrana yazdırınız.\n",
    "* Listeye 5.indexten başlayarak 50 ve 51 değerlerini ekleyiniz.\n",
    "* Listedeki her bir değeri, değerin 10 ile çarpımı ile güncelleyiniz.\n",
    "* Listedeki her bir değer için, eğer değer 2'nin katı ise değeri değerin 5'e bölümü ile 2'nin katı değilse değere 2 ekleyerek güncelleyiniz."
   ]
  },
  {
   "cell_type": "code",
   "execution_count": 39,
   "metadata": {},
   "outputs": [
    {
     "name": "stdout",
     "output_type": "stream",
     "text": [
      "[3, 4, 5, 6]\n"
     ]
    }
   ],
   "source": [
    "my_list = [0,1,2,3,4,5,6,7,9,10,12]\n",
    "\n",
    "\n",
    "print(my_list[3:7])\n",
    "\n"
   ]
  },
  {
   "cell_type": "code",
   "execution_count": 42,
   "metadata": {},
   "outputs": [
    {
     "name": "stdout",
     "output_type": "stream",
     "text": [
      "[12, 10, 9, 7, 6, 5, 4, 3, 2, 1, 0]\n"
     ]
    }
   ],
   "source": [
    "my_list = [0,1,2,3,4,5,6,7,9,10,12]\n",
    "print(my_list[::-1])"
   ]
  },
  {
   "cell_type": "code",
   "execution_count": 43,
   "metadata": {},
   "outputs": [
    {
     "name": "stdout",
     "output_type": "stream",
     "text": [
      "[0, 1, 2, 3, 4, 5, 6, 7, 9, 10, 11, 12]\n"
     ]
    }
   ],
   "source": [
    "my_list.insert(10,11)\n",
    "print(my_list)"
   ]
  },
  {
   "cell_type": "code",
   "execution_count": 44,
   "metadata": {},
   "outputs": [
    {
     "name": "stdout",
     "output_type": "stream",
     "text": [
      "[-15, 0, 1, 2, 3, 4, 5, 6, 7, 9, 10, 11, 12]\n"
     ]
    }
   ],
   "source": [
    "my_list.insert(0,-15)\n",
    "print(my_list)"
   ]
  },
  {
   "cell_type": "code",
   "execution_count": 48,
   "metadata": {},
   "outputs": [
    {
     "name": "stdout",
     "output_type": "stream",
     "text": [
      "[-15, 0, 1, 2, 3, 4, 5, 6, 7, 9, 10, 11]\n"
     ]
    }
   ],
   "source": [
    "my_list.remove(12)\n",
    "print(my_list)"
   ]
  },
  {
   "cell_type": "code",
   "execution_count": 59,
   "metadata": {},
   "outputs": [
    {
     "name": "stdout",
     "output_type": "stream",
     "text": [
      "[0, 1, 2, 3, 4, 50, 51, 5, 6, 7, 9, 10, 12]\n"
     ]
    }
   ],
   "source": [
    "my_list[5:5] = [50,51]\n",
    "print(my_list)"
   ]
  },
  {
   "cell_type": "code",
   "execution_count": 51,
   "metadata": {},
   "outputs": [
    {
     "name": "stdout",
     "output_type": "stream",
     "text": [
      "[-15, 0, 1, 2, 3, 50, 51, 50, 51, 50, 4, 5, 6, 7, 9, 10, 11]\n"
     ]
    }
   ],
   "source": [
    "my_list.insert(5,50)\n",
    "my_list.insert(6,51)\n",
    "print(my_list)\n"
   ]
  },
  {
   "cell_type": "code",
   "execution_count": 63,
   "metadata": {},
   "outputs": [
    {
     "name": "stdout",
     "output_type": "stream",
     "text": [
      "[0, 10, 20, 30, 40, 50, 60, 70, 90, 100, 120]\n"
     ]
    }
   ],
   "source": [
    "my_list = [0,1,2,3,4,5,6,7,9,10,12]\n",
    "print(list(map(lambda x: x*10 , my_list)))"
   ]
  },
  {
   "cell_type": "code",
   "execution_count": 62,
   "metadata": {},
   "outputs": [
    {
     "ename": "TypeError",
     "evalue": "list expected at most 1 argument, got 2",
     "output_type": "error",
     "traceback": [
      "\u001b[1;31m---------------------------------------------------------------------------\u001b[0m",
      "\u001b[1;31mTypeError\u001b[0m                                 Traceback (most recent call last)",
      "Cell \u001b[1;32mIn [62], line 2\u001b[0m\n\u001b[0;32m      1\u001b[0m my_list \u001b[39m=\u001b[39m [\u001b[39m0\u001b[39m,\u001b[39m1\u001b[39m,\u001b[39m2\u001b[39m,\u001b[39m3\u001b[39m,\u001b[39m4\u001b[39m,\u001b[39m5\u001b[39m,\u001b[39m6\u001b[39m,\u001b[39m7\u001b[39m,\u001b[39m9\u001b[39m,\u001b[39m10\u001b[39m,\u001b[39m12\u001b[39m]\n\u001b[1;32m----> 2\u001b[0m my_list \u001b[39m=\u001b[39m \u001b[39mlist\u001b[39m(\u001b[39mlambda\u001b[39;00m x: x \u001b[39m*\u001b[39m x\u001b[39m/\u001b[39m\u001b[39m/\u001b[39m\u001b[39m5\u001b[39m  \u001b[39mif\u001b[39;00m x \u001b[39m%\u001b[39m \u001b[39m2\u001b[39m \u001b[39m==\u001b[39m \u001b[39m0\u001b[39m \u001b[39melse\u001b[39;00m (x \u001b[39m+\u001b[39m \u001b[39m2\u001b[39m \u001b[39mif\u001b[39;00m x \u001b[39m%\u001b[39m \u001b[39m2\u001b[39m \u001b[39m!=\u001b[39m \u001b[39m0\u001b[39m \u001b[39melse\u001b[39;00m x), my_list)\n\u001b[0;32m      3\u001b[0m \u001b[39mprint\u001b[39m(my_list)\n",
      "\u001b[1;31mTypeError\u001b[0m: list expected at most 1 argument, got 2"
     ]
    }
   ],
   "source": [
    "my_list = [0,1,2,3,4,5,6,7,9,10,12]\n",
    "my_list = list(lambda x: x * x//5  if x % 2 == 0 else (x + 2 if x % 2 != 0 else x), my_list)\n",
    "print(my_list)\n",
    "\n",
    "# num = lambda x: x*10 if x > 10 else (x * 5 if x >5 else x) \n"
   ]
  },
  {
   "cell_type": "code",
   "execution_count": 65,
   "metadata": {},
   "outputs": [
    {
     "name": "stdout",
     "output_type": "stream",
     "text": [
      "[0, 3, 0, 5, 0, 7, 1, 9, 11, 2, 2]\n"
     ]
    }
   ],
   "source": [
    "my_list = [0,1,2,3,4,5,6,7,9,10,12]\n",
    "print(list(map(lambda x: x // 5 if x % 2 == 0 else x+2,my_list)))"
   ]
  },
  {
   "cell_type": "markdown",
   "metadata": {},
   "source": [
    "Kendisine parametre olarak verilen listenin içerisindeki sayıları toplayan ve bu sonucu dönen bir fonksiyon yazınız."
   ]
  },
  {
   "cell_type": "code",
   "execution_count": 2,
   "metadata": {},
   "outputs": [
    {
     "name": "stdout",
     "output_type": "stream",
     "text": [
      "Listenin toplamı : 0\n"
     ]
    }
   ],
   "source": [
    "list1 = []\n",
    "len = int(input('Liste Uzunluğunu Girin: '))\n",
    "for i in range(len):\n",
    "    sayi = int(input('Bir Sayı Girin'))\n",
    "    list1.insert(sayi)\n",
    "print(\"Listenin toplamı :\", sum(list1))\n",
    " "
   ]
  },
  {
   "cell_type": "code",
   "execution_count": null,
   "metadata": {},
   "outputs": [],
   "source": [
    "def sum(s):\n",
    "    summ = 0\n",
    "    for i in s:\n",
    "        summ += i\n",
    "    print(summ)\n",
    "i = [4, 2, 3, 5]\n",
    "sum(i)"
   ]
  },
  {
   "cell_type": "markdown",
   "metadata": {},
   "source": [
    "Kendisine parametre olarak verilen listenin içerisindeki sayıları çarpan ve bu sonucu dönen bir fonksiyon yazınız."
   ]
  },
  {
   "cell_type": "code",
   "execution_count": 4,
   "metadata": {},
   "outputs": [
    {
     "name": "stdout",
     "output_type": "stream",
     "text": [
      "120\n"
     ]
    }
   ],
   "source": [
    "def mult(s):\n",
    "    mult = 1\n",
    "    for i in s:\n",
    "        mult *= i\n",
    "    print(mult)\n",
    "i = [4, 2, 3, 5]\n",
    "mult(i)"
   ]
  },
  {
   "cell_type": "markdown",
   "metadata": {},
   "source": [
    "Kendisine parametre olarak verilen listenin içerisindeki sayıların 5 ile bölümünden kalanlarının toplamını dönen bir fonksiyon yazınız"
   ]
  },
  {
   "cell_type": "code",
   "execution_count": 6,
   "metadata": {},
   "outputs": [
    {
     "data": {
      "text/plain": [
       "6"
      ]
     },
     "execution_count": 6,
     "metadata": {},
     "output_type": "execute_result"
    }
   ],
   "source": [
    "def func(number_list):\n",
    "    total = 0\n",
    "    for i in number_list:\n",
    "        a = i % 5\n",
    "        total += a\n",
    "    return total\n",
    "\n",
    "number_list = [5,6,8,1,15,21]\n",
    "func(number_list)"
   ]
  },
  {
   "cell_type": "markdown",
   "metadata": {},
   "source": [
    "\n",
    "Kendisine parametre olarak verilen listenin içerisindeki sayılardan, kendisine parametre olarak verilen sayıya tam bölünenlerin toplamını döndüren bir fonksiyon yazınız. Fonksiyon aşağıdaki gibi görünebilir.\n",
    "\n",
    "def tam_bolunenleri_topla(liste, bolunecek_sayi)\n",
    "    return tam_bolunenlerin_toplami"
   ]
  },
  {
   "cell_type": "code",
   "execution_count": 10,
   "metadata": {},
   "outputs": [
    {
     "ename": "TypeError",
     "evalue": "'bool' object is not iterable",
     "output_type": "error",
     "traceback": [
      "\u001b[1;31m---------------------------------------------------------------------------\u001b[0m",
      "\u001b[1;31mTypeError\u001b[0m                                 Traceback (most recent call last)",
      "Cell \u001b[1;32mIn [10], line 10\u001b[0m\n\u001b[0;32m      6\u001b[0m     \u001b[39mreturn\u001b[39;00m sumOfDivideNumbers\n\u001b[0;32m      8\u001b[0m my_list \u001b[39m=\u001b[39m [\u001b[39m10\u001b[39m,\u001b[39m4\u001b[39m,\u001b[39m5\u001b[39m,\u001b[39m6\u001b[39m,\u001b[39m3\u001b[39m,\u001b[39m9\u001b[39m]\n\u001b[1;32m---> 10\u001b[0m \u001b[39mprint\u001b[39m(sumDivideNumbers(my_list,\u001b[39m5\u001b[39m))\n",
      "Cell \u001b[1;32mIn [10], line 3\u001b[0m, in \u001b[0;36msumDivideNumbers\u001b[1;34m(givenList, divisor)\u001b[0m\n\u001b[0;32m      1\u001b[0m \u001b[39mdef\u001b[39;00m \u001b[39msumDivideNumbers\u001b[39m (givenList, divisor):\n\u001b[0;32m      2\u001b[0m     sumOfDivideNumber \u001b[39m=\u001b[39m \u001b[39m0\u001b[39m\n\u001b[1;32m----> 3\u001b[0m     \u001b[39mfor\u001b[39;00m item \u001b[39min\u001b[39;00m givenList \u001b[39m==\u001b[39m \u001b[39m0\u001b[39m:\n\u001b[0;32m      4\u001b[0m         sumOfDivideNumbers \u001b[39m+\u001b[39m\u001b[39m=\u001b[39m item\n\u001b[0;32m      6\u001b[0m     \u001b[39mreturn\u001b[39;00m sumOfDivideNumbers\n",
      "\u001b[1;31mTypeError\u001b[0m: 'bool' object is not iterable"
     ]
    }
   ],
   "source": [
    "def sumDivideNumbers (givenList, divisor):\n",
    "    sumOfDivideNumber = 0\n",
    "    for item in givenList == 0:\n",
    "        sumOfDivideNumbers += item\n",
    "\n",
    "    return sumOfDivideNumbers\n",
    "\n",
    "my_list = [10,4,5,6,3,9]\n",
    "\n",
    "print(sumDivideNumbers(my_list,5))\n",
    "\n"
   ]
  },
  {
   "cell_type": "markdown",
   "metadata": {},
   "source": [
    "-1000 ile 1000 aralığında random sayılardan oluşan 250 elemanlı bir liste oluşturunuz. Sonrasında oluşturduğunuz bu liste ile aşağıdaki işlemleri yapınız.\n",
    "\n",
    "* Bu liste içerisinde kaç adet pozitif, kaç adet negatif sayı olduğunu bulunuz.\n",
    "* Bu liste içerisinde kaç adet tek, kaç adet çift sayı olduğunu bulunuz.\n",
    "* Bu liste içerisinde 3'e tam bölünen sayıların toplamını bulunuz.\n",
    "* Bu liste içerisinde 5'e tam bölünen sayıların toplamını bulunuz.\n",
    "* Bu liste içerisinde 15'e tam bölünen sayıların toplamını bulunuz.\n",
    "* Bu liste içerisindeki çift sayıların ve tek sayıların toplamını bulunuz.\n",
    "* Bu liste içerisinde çift indexte bulunan sayıların toplamını bulunuz.\n",
    "* Listedeki her bir değer için, eğer değer pozitif ise 10 çıkarınız değilse 20 ekleyiniz.\n",
    "* Listedeki pozitif ve negatif değerlerin en büyüğünü ayrı ayrı bulunuz.\n"
   ]
  },
  {
   "cell_type": "code",
   "execution_count": 20,
   "metadata": {},
   "outputs": [
    {
     "ename": "TypeError",
     "evalue": "'int' object is not callable",
     "output_type": "error",
     "traceback": [
      "\u001b[1;31m---------------------------------------------------------------------------\u001b[0m",
      "\u001b[1;31mTypeError\u001b[0m                                 Traceback (most recent call last)",
      "Cell \u001b[1;32mIn [20], line 8\u001b[0m\n\u001b[0;32m      5\u001b[0m \u001b[39mfor\u001b[39;00m counter \u001b[39min\u001b[39;00m \u001b[39mrange\u001b[39m (\u001b[39m0\u001b[39m,\u001b[39m250\u001b[39m):\n\u001b[0;32m      6\u001b[0m     randomList\u001b[39m.\u001b[39mappend(random\u001b[39m.\u001b[39mrandint(\u001b[39m-\u001b[39m\u001b[39m1000\u001b[39m,\u001b[39m1000\u001b[39m))\n\u001b[1;32m----> 8\u001b[0m \u001b[39mprint\u001b[39m(\u001b[39mlen\u001b[39m(randomList))\n\u001b[0;32m     10\u001b[0m positiveCount \u001b[39m=\u001b[39m \u001b[39mlen\u001b[39m(\u001b[39mlist\u001b[39m(\u001b[39mfilter\u001b[39m(\u001b[39mlambda\u001b[39;00m number: number \u001b[39m>\u001b[39m\u001b[39m=\u001b[39m \u001b[39m0\u001b[39m, randomList)))\n\u001b[0;32m     11\u001b[0m negativeCount \u001b[39m=\u001b[39m \u001b[39mlen\u001b[39m(\u001b[39mlist\u001b[39m(\u001b[39mfilter\u001b[39m(\u001b[39mlambda\u001b[39;00m number: number \u001b[39m<\u001b[39m\u001b[39m=\u001b[39m \u001b[39m0\u001b[39m, randomList)))\n",
      "\u001b[1;31mTypeError\u001b[0m: 'int' object is not callable"
     ]
    }
   ],
   "source": [
    "import random\n",
    "\n",
    "randomList = []\n",
    "for counter in range (0,250):\n",
    "    randomList.append(random.randint(-1000,1000))\n",
    "\n",
    "print(len(randomList))\n",
    "\n",
    "positiveCount = len(list(filter(lambda number: number >= 0, randomList)))\n",
    "negativeCount = len(list(filter(lambda number: number <= 0, randomList)))\n",
    "\n",
    "print(f'Negative Count: {negativeCount} - PositiveCount: {positiveCount}')"
   ]
  },
  {
   "cell_type": "code",
   "execution_count": null,
   "metadata": {},
   "outputs": [],
   "source": [
    "import random\n",
    "\n",
    "randomList = []\n",
    "for counter in range (0,250):\n",
    "    randomList.append(random.randint(-1000,1000))\n",
    "\n",
    "print(len(randomList))\n",
    "\n",
    "oddCount = len(list(filter(lambda number: number % 2 != 0 , randomList)))\n",
    "EvenCount = len(list(filter(lambda number: number % 2 == 0, randomList)))\n",
    "\n",
    "print(f'Odd Count: {oddCount} - Even Count: {evenCount}')"
   ]
  },
  {
   "cell_type": "code",
   "execution_count": 22,
   "metadata": {},
   "outputs": [
    {
     "ename": "TypeError",
     "evalue": "'int' object is not callable",
     "output_type": "error",
     "traceback": [
      "\u001b[1;31m---------------------------------------------------------------------------\u001b[0m",
      "\u001b[1;31mTypeError\u001b[0m                                 Traceback (most recent call last)",
      "Cell \u001b[1;32mIn [22], line 7\u001b[0m\n\u001b[0;32m      4\u001b[0m \u001b[39mfor\u001b[39;00m counter \u001b[39min\u001b[39;00m \u001b[39mrange\u001b[39m (\u001b[39m0\u001b[39m,\u001b[39m250\u001b[39m):\n\u001b[0;32m      5\u001b[0m     randomList\u001b[39m.\u001b[39mappend(random\u001b[39m.\u001b[39mrandint(\u001b[39m-\u001b[39m\u001b[39m1000\u001b[39m,\u001b[39m1000\u001b[39m))\n\u001b[1;32m----> 7\u001b[0m \u001b[39mprint\u001b[39m(\u001b[39mlen\u001b[39m(randomList))\n\u001b[0;32m      9\u001b[0m ucunkatlari \u001b[39m=\u001b[39m \u001b[39mlen\u001b[39m(\u001b[39mlist\u001b[39m(\u001b[39mfilter\u001b[39m(\u001b[39mlambda\u001b[39;00m number: number \u001b[39m%\u001b[39m \u001b[39m3\u001b[39m \u001b[39m==\u001b[39m \u001b[39m0\u001b[39m , randomList)))\n\u001b[0;32m     11\u001b[0m \u001b[39mprint\u001b[39m(\u001b[39m\"\u001b[39m\u001b[39mÜçün katları:\u001b[39m\u001b[39m\"\u001b[39m ,{ucunkatlari})\n",
      "\u001b[1;31mTypeError\u001b[0m: 'int' object is not callable"
     ]
    }
   ],
   "source": [
    "import random\n",
    "\n",
    "randomList = []\n",
    "for counter in range (0,250):\n",
    "    randomList.append(random.randint(-1000,1000))\n",
    "\n",
    "print(len(randomList))\n",
    "\n",
    "ucunkatlari = len(list(filter(lambda number: number % 3 == 0 , randomList)))\n",
    "\n",
    "print(\"Üçün katları:\" ,{ucunkatlari})"
   ]
  },
  {
   "cell_type": "code",
   "execution_count": null,
   "metadata": {},
   "outputs": [],
   "source": [
    "import random\n",
    "\n",
    "randomList = []\n",
    "for counter in range (0,250):\n",
    "    randomList.append(random.randint(-1000,1000))\n",
    "\n",
    "print(len(randomList))\n",
    "\n",
    "beskatlari = len(list(filter(lambda number: number % 5 == 0 , randomList)))\n",
    "\n",
    "print(\"Beşin katları:\" ,{beskatlari})"
   ]
  },
  {
   "cell_type": "code",
   "execution_count": 23,
   "metadata": {},
   "outputs": [
    {
     "ename": "TypeError",
     "evalue": "'int' object is not callable",
     "output_type": "error",
     "traceback": [
      "\u001b[1;31m---------------------------------------------------------------------------\u001b[0m",
      "\u001b[1;31mTypeError\u001b[0m                                 Traceback (most recent call last)",
      "Cell \u001b[1;32mIn [23], line 1\u001b[0m\n\u001b[1;32m----> 1\u001b[0m \u001b[39mprint\u001b[39m(\u001b[39mlen\u001b[39m(randomList))\n\u001b[0;32m      3\u001b[0m onbes \u001b[39m=\u001b[39m \u001b[39mlen\u001b[39m(\u001b[39mlist\u001b[39m(\u001b[39mfilter\u001b[39m(\u001b[39mlambda\u001b[39;00m number: number \u001b[39m%\u001b[39m \u001b[39m5\u001b[39m \u001b[39m==\u001b[39m \u001b[39m0\u001b[39m \u001b[39mand\u001b[39;00m number \u001b[39m%\u001b[39m \u001b[39m3\u001b[39m \u001b[39m==\u001b[39m \u001b[39m0\u001b[39m , randomList)))\n\u001b[0;32m      5\u001b[0m \u001b[39mprint\u001b[39m(\u001b[39m\"\u001b[39m\u001b[39mOn beşin katları:\u001b[39m\u001b[39m\"\u001b[39m ,{onbes})\n",
      "\u001b[1;31mTypeError\u001b[0m: 'int' object is not callable"
     ]
    }
   ],
   "source": [
    "print(len(randomList))\n",
    "\n",
    "onbes = len(list(filter(lambda number: number % 5 == 0 and number % 3 == 0 , randomList)))\n",
    "\n",
    "print(\"On beşin katları:\" ,{onbes})"
   ]
  },
  {
   "cell_type": "code",
   "execution_count": 24,
   "metadata": {},
   "outputs": [
    {
     "ename": "TypeError",
     "evalue": "'int' object is not callable",
     "output_type": "error",
     "traceback": [
      "\u001b[1;31m---------------------------------------------------------------------------\u001b[0m",
      "\u001b[1;31mTypeError\u001b[0m                                 Traceback (most recent call last)",
      "Cell \u001b[1;32mIn [24], line 7\u001b[0m\n\u001b[0;32m      4\u001b[0m \u001b[39mfor\u001b[39;00m counter \u001b[39min\u001b[39;00m \u001b[39mrange\u001b[39m (\u001b[39m0\u001b[39m,\u001b[39m250\u001b[39m):\n\u001b[0;32m      5\u001b[0m     randomList\u001b[39m.\u001b[39mappend(random\u001b[39m.\u001b[39mrandint(\u001b[39m-\u001b[39m\u001b[39m1000\u001b[39m,\u001b[39m1000\u001b[39m))\n\u001b[1;32m----> 7\u001b[0m \u001b[39mprint\u001b[39m(\u001b[39mlen\u001b[39m(randomList))\n\u001b[0;32m      9\u001b[0m positiveCount \u001b[39m=\u001b[39m \u001b[39mlen\u001b[39m(\u001b[39mlist\u001b[39m(\u001b[39mfilter\u001b[39m(\u001b[39mlambda\u001b[39;00m number: number \u001b[39m>\u001b[39m\u001b[39m=\u001b[39m \u001b[39m0\u001b[39m, randomList)))\n\u001b[0;32m     10\u001b[0m negativeCount \u001b[39m=\u001b[39m \u001b[39mlen\u001b[39m(\u001b[39mlist\u001b[39m(\u001b[39mfilter\u001b[39m(\u001b[39mlambda\u001b[39;00m number: number \u001b[39m<\u001b[39m\u001b[39m=\u001b[39m \u001b[39m0\u001b[39m, randomList)))\n",
      "\u001b[1;31mTypeError\u001b[0m: 'int' object is not callable"
     ]
    }
   ],
   "source": [
    "import random\n",
    "\n",
    "randomList = []\n",
    "for counter in range (0,250):\n",
    "    randomList.append(random.randint(-1000,1000))\n",
    "\n",
    "print(len(randomList))\n",
    "\n",
    "positiveCount = len(list(filter(lambda number: number >= 0, randomList)))\n",
    "negativeCount = len(list(filter(lambda number: number <= 0, randomList)))\n",
    "\n",
    "print(sum(positiveCount + negativeCount))"
   ]
  },
  {
   "cell_type": "code",
   "execution_count": null,
   "metadata": {},
   "outputs": [],
   "source": []
  }
 ],
 "metadata": {
  "kernelspec": {
   "display_name": "Python 3.10.5 64-bit",
   "language": "python",
   "name": "python3"
  },
  "language_info": {
   "codemirror_mode": {
    "name": "ipython",
    "version": 3
   },
   "file_extension": ".py",
   "mimetype": "text/x-python",
   "name": "python",
   "nbconvert_exporter": "python",
   "pygments_lexer": "ipython3",
   "version": "3.10.5"
  },
  "orig_nbformat": 4,
  "vscode": {
   "interpreter": {
    "hash": "62152218f5ae77fab72cd74f672204b070f3d26a6c6ea88577bcd7d0571ecb6a"
   }
  }
 },
 "nbformat": 4,
 "nbformat_minor": 2
}
