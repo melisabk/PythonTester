{
 "cells": [
  {
   "cell_type": "markdown",
   "metadata": {},
   "source": [
    "Aşağıdaki stringde verilen değeri, büyük harfe dönüştürmek ve tersine çevirmek için bir lambda fonksiyonu kullanın.\n",
    "SistersLab girdisi için beklenen çıktı 'BALSRETSİS'"
   ]
  },
  {
   "cell_type": "code",
   "execution_count": 9,
   "metadata": {},
   "outputs": [
    {
     "name": "stdout",
     "output_type": "stream",
     "text": [
      "BALSRETSIS\n"
     ]
    }
   ],
   "source": [
    "str1 = \"SistersLab\"\n",
    "revers_upper = lambda string: string.upper()[: : -1]\n",
    "print(revers_upper(str1))"
   ]
  },
  {
   "cell_type": "markdown",
   "metadata": {},
   "source": [
    "Girilen değer 5-10 arasında ise sayının 5 katını, 10'dan büyükse 10 katını dönen bir lambda fonksiyonu ve normal fonksiyon yazın."
   ]
  },
  {
   "cell_type": "code",
   "execution_count": null,
   "metadata": {},
   "outputs": [],
   "source": [
    "#my\n",
    "def Order():\n",
    "    num = int(input(\"Enter your number: \"))\n",
    "    if num > 5 and num < 10:\n",
    "        print(num * 5)\n",
    "    elif num > 10:\n",
    "        print(num * 10)\n",
    "    else:\n",
    "      print(\"fonksiyona uygun bir değer giriniz\")\n",
    "Order()\n"
   ]
  },
  {
   "cell_type": "code",
   "execution_count": 23,
   "metadata": {},
   "outputs": [
    {
     "data": {
      "text/plain": [
       "110"
      ]
     },
     "execution_count": 23,
     "metadata": {},
     "output_type": "execute_result"
    }
   ],
   "source": [
    "#ayse\n",
    "num = lambda x: x*10 if x > 10 else (x * 5 if x >5 else x) \n",
    "num(11)\n",
    "\n"
   ]
  },
  {
   "cell_type": "code",
   "execution_count": 25,
   "metadata": {},
   "outputs": [
    {
     "data": {
      "text/plain": [
       "110"
      ]
     },
     "execution_count": 25,
     "metadata": {},
     "output_type": "execute_result"
    }
   ],
   "source": [
    "\n",
    "def check_conditions(x):\n",
    "    if x > 10:\n",
    "        return x*10\n",
    "    elif x<5:\n",
    "        return x*5\n",
    "    else:\n",
    "        return x\n",
    "check_conditions(11)\n"
   ]
  },
  {
   "cell_type": "markdown",
   "metadata": {},
   "source": [
    "Listedeki sayılardan tek olanları lambda fonksiyonu kullanarak yazdırınız.\n",
    "list_ = [34, 12, 64, 57, 75, 13, 63, 3, 23, 232, 3453, 111211]"
   ]
  },
  {
   "cell_type": "code",
   "execution_count": 26,
   "metadata": {},
   "outputs": [
    {
     "name": "stdout",
     "output_type": "stream",
     "text": [
      "[57, 75, 13, 63, 3, 23, 3453, 111211]\n"
     ]
    }
   ],
   "source": [
    "list_ = [34, 12, 64, 57, 75, 13, 63, 3, 23, 232, 3453, 111211]\n",
    "\n",
    "print(list(filter(lambda x: x % 2 != 0,list_)))"
   ]
  },
  {
   "cell_type": "markdown",
   "metadata": {},
   "source": [
    "[0,1,2,3,4,5,6,7,9,10,12] Verilen listenin\n",
    "\n",
    "* 3.indexi ile 6.indexi arasındaki değerleri yazdırınız.\n",
    "* Listeyi tersten yazdırınız.\n",
    "* Listeye 10'dan sonra olacak şekilde 11 değerini ekleyiniz.\n",
    "* Listenin en başına -15 değerini ekleyiniz.\n",
    "* Listenin sonundaki değeri siliniz ve ekrana yazdırınız.\n",
    "* Listeye 5.indexten başlayarak 50 ve 51 değerlerini ekleyiniz.\n",
    "* Listedeki her bir değeri, değerin 10 ile çarpımı ile güncelleyiniz.\n",
    "* Listedeki her bir değer için, eğer değer 2'nin katı ise değeri değerin 5'e bölümü ile 2'nin katı değilse değere 2 ekleyerek güncelleyiniz."
   ]
  },
  {
   "cell_type": "code",
   "execution_count": 39,
   "metadata": {},
   "outputs": [
    {
     "name": "stdout",
     "output_type": "stream",
     "text": [
      "[3, 4, 5, 6]\n"
     ]
    }
   ],
   "source": [
    "my_list = [0,1,2,3,4,5,6,7,9,10,12]\n",
    "\n",
    "\n",
    "print(my_list[3:7])\n",
    "\n"
   ]
  },
  {
   "cell_type": "code",
   "execution_count": 42,
   "metadata": {},
   "outputs": [
    {
     "name": "stdout",
     "output_type": "stream",
     "text": [
      "[12, 10, 9, 7, 6, 5, 4, 3, 2, 1, 0]\n"
     ]
    }
   ],
   "source": [
    "my_list = [0,1,2,3,4,5,6,7,9,10,12]\n",
    "print(my_list[::-1])"
   ]
  },
  {
   "cell_type": "code",
   "execution_count": 43,
   "metadata": {},
   "outputs": [
    {
     "name": "stdout",
     "output_type": "stream",
     "text": [
      "[0, 1, 2, 3, 4, 5, 6, 7, 9, 10, 11, 12]\n"
     ]
    }
   ],
   "source": [
    "my_list.insert(10,11)\n",
    "print(my_list)"
   ]
  },
  {
   "cell_type": "code",
   "execution_count": 44,
   "metadata": {},
   "outputs": [
    {
     "name": "stdout",
     "output_type": "stream",
     "text": [
      "[-15, 0, 1, 2, 3, 4, 5, 6, 7, 9, 10, 11, 12]\n"
     ]
    }
   ],
   "source": [
    "my_list.insert(0,-15)\n",
    "print(my_list)"
   ]
  },
  {
   "cell_type": "code",
   "execution_count": 48,
   "metadata": {},
   "outputs": [
    {
     "name": "stdout",
     "output_type": "stream",
     "text": [
      "[-15, 0, 1, 2, 3, 4, 5, 6, 7, 9, 10, 11]\n"
     ]
    }
   ],
   "source": [
    "my_list.remove(12)\n",
    "print(my_list)"
   ]
  },
  {
   "cell_type": "code",
   "execution_count": 59,
   "metadata": {},
   "outputs": [
    {
     "name": "stdout",
     "output_type": "stream",
     "text": [
      "[0, 1, 2, 3, 4, 50, 51, 5, 6, 7, 9, 10, 12]\n"
     ]
    }
   ],
   "source": [
    "my_list[5:5] = [50,51]\n",
    "print(my_list)"
   ]
  },
  {
   "cell_type": "code",
   "execution_count": 51,
   "metadata": {},
   "outputs": [
    {
     "name": "stdout",
     "output_type": "stream",
     "text": [
      "[-15, 0, 1, 2, 3, 50, 51, 50, 51, 50, 4, 5, 6, 7, 9, 10, 11]\n"
     ]
    }
   ],
   "source": [
    "my_list.insert(5,50)\n",
    "my_list.insert(6,51)\n",
    "print(my_list)\n"
   ]
  },
  {
   "cell_type": "code",
   "execution_count": 63,
   "metadata": {},
   "outputs": [
    {
     "name": "stdout",
     "output_type": "stream",
     "text": [
      "[0, 10, 20, 30, 40, 50, 60, 70, 90, 100, 120]\n"
     ]
    }
   ],
   "source": [
    "my_list = [0,1,2,3,4,5,6,7,9,10,12]\n",
    "print(list(map(lambda x: x*10 , my_list)))"
   ]
  },
  {
   "cell_type": "code",
   "execution_count": 62,
   "metadata": {},
   "outputs": [
    {
     "ename": "TypeError",
     "evalue": "list expected at most 1 argument, got 2",
     "output_type": "error",
     "traceback": [
      "\u001b[1;31m---------------------------------------------------------------------------\u001b[0m",
      "\u001b[1;31mTypeError\u001b[0m                                 Traceback (most recent call last)",
      "Cell \u001b[1;32mIn [62], line 2\u001b[0m\n\u001b[0;32m      1\u001b[0m my_list \u001b[39m=\u001b[39m [\u001b[39m0\u001b[39m,\u001b[39m1\u001b[39m,\u001b[39m2\u001b[39m,\u001b[39m3\u001b[39m,\u001b[39m4\u001b[39m,\u001b[39m5\u001b[39m,\u001b[39m6\u001b[39m,\u001b[39m7\u001b[39m,\u001b[39m9\u001b[39m,\u001b[39m10\u001b[39m,\u001b[39m12\u001b[39m]\n\u001b[1;32m----> 2\u001b[0m my_list \u001b[39m=\u001b[39m \u001b[39mlist\u001b[39m(\u001b[39mlambda\u001b[39;00m x: x \u001b[39m*\u001b[39m x\u001b[39m/\u001b[39m\u001b[39m/\u001b[39m\u001b[39m5\u001b[39m  \u001b[39mif\u001b[39;00m x \u001b[39m%\u001b[39m \u001b[39m2\u001b[39m \u001b[39m==\u001b[39m \u001b[39m0\u001b[39m \u001b[39melse\u001b[39;00m (x \u001b[39m+\u001b[39m \u001b[39m2\u001b[39m \u001b[39mif\u001b[39;00m x \u001b[39m%\u001b[39m \u001b[39m2\u001b[39m \u001b[39m!=\u001b[39m \u001b[39m0\u001b[39m \u001b[39melse\u001b[39;00m x), my_list)\n\u001b[0;32m      3\u001b[0m \u001b[39mprint\u001b[39m(my_list)\n",
      "\u001b[1;31mTypeError\u001b[0m: list expected at most 1 argument, got 2"
     ]
    }
   ],
   "source": [
    "my_list = [0,1,2,3,4,5,6,7,9,10,12]\n",
    "my_list = list(lambda x: x * x//5  if x % 2 == 0 else (x + 2 if x % 2 != 0 else x), my_list)\n",
    "print(my_list)\n",
    "\n",
    "# num = lambda x: x*10 if x > 10 else (x * 5 if x >5 else x) \n"
   ]
  },
  {
   "cell_type": "code",
   "execution_count": 65,
   "metadata": {},
   "outputs": [
    {
     "name": "stdout",
     "output_type": "stream",
     "text": [
      "[0, 3, 0, 5, 0, 7, 1, 9, 11, 2, 2]\n"
     ]
    }
   ],
   "source": [
    "my_list = [0,1,2,3,4,5,6,7,9,10,12]\n",
    "print(list(map(lambda x: x // 5 if x % 2 == 0 else x+2,my_list)))"
   ]
  }
 ],
 "metadata": {
  "kernelspec": {
   "display_name": "Python 3.10.5 64-bit",
   "language": "python",
   "name": "python3"
  },
  "language_info": {
   "codemirror_mode": {
    "name": "ipython",
    "version": 3
   },
   "file_extension": ".py",
   "mimetype": "text/x-python",
   "name": "python",
   "nbconvert_exporter": "python",
   "pygments_lexer": "ipython3",
   "version": "3.10.5"
  },
  "orig_nbformat": 4,
  "vscode": {
   "interpreter": {
    "hash": "62152218f5ae77fab72cd74f672204b070f3d26a6c6ea88577bcd7d0571ecb6a"
   }
  }
 },
 "nbformat": 4,
 "nbformat_minor": 2
}
