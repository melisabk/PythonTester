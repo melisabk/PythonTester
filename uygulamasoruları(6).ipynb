{
 "cells": [
  {
   "cell_type": "markdown",
   "metadata": {},
   "source": [
    "Kullanıcının girdiği ad, soyad ve yaş bilgilerini tutan bir dictionary oluşturunuz.\n",
    "\n",
    "* Kullanıcının ad değerini, büyük harfler ile güncelleyiniz.\n",
    "* Kullanıcının yaş değerine 2 ekleyiniz.\n",
    "* Dictionary'e kullanıcının en sevdiği rengi ekleyiniz key-value şeklinde ekleyiniz.\n",
    "* Kullanıcının adını ve soyadını kapsayan yeni bir key-value ekleyiniz.\n",
    "* Kullanıcının ad değerini dictionary'den kaldırınız."
   ]
  },
  {
   "cell_type": "code",
   "execution_count": 14,
   "metadata": {},
   "outputs": [
    {
     "name": "stdout",
     "output_type": "stream",
     "text": [
      "{'name': 'mel', 'surname': 'bk', 'age': 3}\n"
     ]
    }
   ],
   "source": [
    "my_dict= {\n",
    "\"name\": input(\"enter your name: \"),\n",
    "\"surname\":  input (\"enter your surname: \"),\n",
    "\"age\": int(input(\"enter your age: \"))\n",
    "}\n",
    "print(my_dict)\n",
    "\n",
    "#soru1\n",
    "my_dict.update({\"name\": my_dict[\"name\"].upper()})\n"
   ]
  },
  {
   "cell_type": "code",
   "execution_count": 12,
   "metadata": {},
   "outputs": [],
   "source": [
    "my_dict.update({\"age\": my_dict[\"age\"]+2})"
   ]
  },
  {
   "cell_type": "code",
   "execution_count": 8,
   "metadata": {},
   "outputs": [
    {
     "name": "stdout",
     "output_type": "stream",
     "text": [
      "{'name': 'MELISA', 'surname': 'büyükköprü', 'age': 46, 'color': 'blue'}\n"
     ]
    }
   ],
   "source": [
    "my_dict[\"color\"] = \"blue\"\n",
    "print(my_dict)\n",
    "# my_dict[\"color\"] = \"blue\"\n",
    "# print(my_dict)"
   ]
  },
  {
   "cell_type": "code",
   "execution_count": 16,
   "metadata": {},
   "outputs": [
    {
     "name": "stdout",
     "output_type": "stream",
     "text": [
      "{'name': 'MELbk', 'surname': 'bk', 'age': 3}\n"
     ]
    }
   ],
   "source": [
    "my_dict[\"name\"] = my_dict[\"name\"] + my_dict[\"surname\"]\n",
    "print(my_dict)"
   ]
  },
  {
   "cell_type": "code",
   "execution_count": 18,
   "metadata": {},
   "outputs": [
    {
     "ename": "SyntaxError",
     "evalue": "invalid syntax (639278068.py, line 1)",
     "output_type": "error",
     "traceback": [
      "\u001b[1;36m  Cell \u001b[1;32mIn [18], line 1\u001b[1;36m\u001b[0m\n\u001b[1;33m    del my_dict[\"name\"] + del my_dict[\"surname\"]\u001b[0m\n\u001b[1;37m                        ^\u001b[0m\n\u001b[1;31mSyntaxError\u001b[0m\u001b[1;31m:\u001b[0m invalid syntax\n"
     ]
    }
   ],
   "source": [
    "del my_dict[\"name\"] + del my_dict[\"surname\"]"
   ]
  },
  {
   "cell_type": "code",
   "execution_count": 20,
   "metadata": {},
   "outputs": [
    {
     "name": "stdout",
     "output_type": "stream",
     "text": [
      "{'surname': 'bk', 'age': 3}\n"
     ]
    }
   ],
   "source": [
    "my_dict.pop(\"name\")\n",
    "print (my_dict)"
   ]
  },
  {
   "cell_type": "markdown",
   "metadata": {},
   "source": [
    "Kullanıcının verdiği aralığa göre, key değerleri o anki sayı, value değerleri o anki sayının karesi olan bir dictionary oluşturunuz.\n",
    "\n",
    "Örnek olarak, kullanıcı aralık olarak 2 ve 7 girmiş olsun. Bizden beklenen dictionary şu şekilde olmalıdır;\n",
    "\n",
    "{2: 4, 3: 9, 4: 16, 5: 25, 6:36, 7:49}"
   ]
  },
  {
   "cell_type": "code",
   "execution_count": null,
   "metadata": {},
   "outputs": [],
   "source": [
    "def func(start, end):\n",
    "    keys =[]\n",
    "    values = []\n",
    "    for i in range(start, end+1):\n",
    "        keys.append(i)\n",
    "    for j in range(start, end+1):\n",
    "        values.append(j**2)\n",
    "    dict_ = dict(zip(keys,values))\n",
    "        \n",
    "    return dict_\n",
    "\n",
    "start = int(input(\"baslangic degeri giriniz: \"))\n",
    "end = int(input(\"bitis degeri giriniz: \"))\n",
    "func(start, end)\n"
   ]
  },
  {
   "cell_type": "markdown",
   "metadata": {},
   "source": [
    "Aşağıda verilen liste ile istenilen işlemleri yapınız.\n",
    "\n",
    "Yaşı 20'den büyük olanları ekrana yazdırınız.\n",
    "Adı 'A' ile başlayanları ekrana yazdırınız.\n",
    "Soyadı 'J' ile başlayanları ekrana yazdırınız.\n",
    "Adı 'C' ile soyadı 'A' ile başlayanları ekrana yazdırınız.\n",
    "Adının içinde 'A' ahrfi geçenleri ekrana yazdırınız.\n",
    "Yaşı tek sayı olanları ekrana yazdırınız.\n",
    "Kullanının yaşını, (kullanıcının yaşı + kullanıcının soyadının uzunluğu) şeklinde güncelleyiniz.\n",
    "Kullanıcının adını ve soyadını içeren FullName adında yeni bir key-value pair oluşturunuz.\n",
    "myUsers = [\n",
    "    {\n",
    "        \"Name\":\"Rosalind\",\n",
    "        \"Surname\": \"Rich\",\n",
    "        \"Age\": 23\n",
    "    }\n",
    "    ,{\n",
    "        \"Name\":\"Annika\",\n",
    "        \"Surname\": \"Keenan\",\n",
    "        \"Age\": 28\n",
    "    }\n",
    "    ,{\n",
    "        \"Name\":\"Emillie\",\n",
    "        \"Surname\": \"Plummer\",\n",
    "        \"Age\": 17\n",
    "    }\n",
    "    ,{\n",
    "        \"Name\":\"Kourtney\",\n",
    "        \"Surname\": \"Pate\",\n",
    "        \"Age\": 30\n",
    "    }\n",
    "    ,{\n",
    "        \"Name\":\"Virgil\",\n",
    "        \"Surname\": \"Solomon\",\n",
    "        \"Age\": 40\n",
    "    }\n",
    "    ,{\n",
    "        \"Name\":\"Bobby\",\n",
    "        \"Surname\": \"Jordan\",\n",
    "        \"Age\":33\n",
    "    }\n",
    "    ,{\n",
    "        \"Name\":\"Alfie\",\n",
    "        \"Surname\":\"James Robson\",\n",
    "        \"Age\": 16\n",
    "    } \n",
    "    ,{\n",
    "        \"Name\":\"Isla\",\n",
    "        \"Surname\":\"Grace Tran\",\n",
    "        \"Age\": 64\n",
    "    } \n",
    "    ,{\n",
    "        \"Name\":\"Arif\",\n",
    "        \"Surname\": \"Rivas\",\n",
    "        \"Age\": 43\n",
    "    }\n",
    "    ,{\n",
    "        \"Name\":\"Zakaria\",\n",
    "        \"Surname\": \"Whitehead\",\n",
    "        \"Age\": 82\n",
    "    }\n",
    "    ,{\n",
    "        \"Name\":\"Casper\",\n",
    "        \"Surname\": \"Velasquez\",\n",
    "        \"Age\": 57\n",
    "    }\n",
    "    ,{\n",
    "        \"Name\":\"Caoimhe\",\n",
    "        \"Surname\": \"Ali\",\n",
    "        \"Age\": 34\n",
    "    }\n",
    "    ,{\n",
    "        \"Name\":\"Viola\",\n",
    "        \"Surname\": \"Shepherd\",\n",
    "        \"Age\": 18\n",
    "    }\n",
    "]"
   ]
  },
  {
   "cell_type": "code",
   "execution_count": 23,
   "metadata": {},
   "outputs": [],
   "source": [
    "myUsers = [\n",
    "    {\n",
    "        \"Name\":\"Rosalind\",\n",
    "        \"Surname\": \"Rich\",\n",
    "        \"Age\": 23\n",
    "    }\n",
    "    ,{\n",
    "        \"Name\":\"Annika\",\n",
    "        \"Surname\": \"Keenan\",\n",
    "        \"Age\": 28\n",
    "    }\n",
    "    ,{\n",
    "        \"Name\":\"Emillie\",\n",
    "        \"Surname\": \"Plummer\",\n",
    "        \"Age\": 17\n",
    "    }\n",
    "    ,{\n",
    "        \"Name\":\"Kourtney\",\n",
    "        \"Surname\": \"Pate\",\n",
    "        \"Age\": 30\n",
    "    }\n",
    "    ,{\n",
    "        \"Name\":\"Virgil\",\n",
    "        \"Surname\": \"Solomon\",\n",
    "        \"Age\": 40\n",
    "    }\n",
    "    ,{\n",
    "        \"Name\":\"Bobby\",\n",
    "        \"Surname\": \"Jordan\",\n",
    "        \"Age\":33\n",
    "    }\n",
    "    ,{\n",
    "        \"Name\":\"Alfie\",\n",
    "        \"Surname\":\"James Robson\",\n",
    "        \"Age\": 16\n",
    "    } \n",
    "    ,{\n",
    "        \"Name\":\"Isla\",\n",
    "        \"Surname\":\"Grace Tran\",\n",
    "        \"Age\": 64\n",
    "    } \n",
    "    ,{\n",
    "        \"Name\":\"Arif\",\n",
    "        \"Surname\": \"Rivas\",\n",
    "        \"Age\": 43\n",
    "    }\n",
    "    ,{\n",
    "        \"Name\":\"Zakaria\",\n",
    "        \"Surname\": \"Whitehead\",\n",
    "        \"Age\": 82\n",
    "    }\n",
    "    ,{\n",
    "        \"Name\":\"Casper\",\n",
    "        \"Surname\": \"Velasquez\",\n",
    "        \"Age\": 57\n",
    "    }\n",
    "    ,{\n",
    "        \"Name\":\"Caoimhe\",\n",
    "        \"Surname\": \"Ali\",\n",
    "        \"Age\": 34\n",
    "    }\n",
    "    ,{\n",
    "        \"Name\":\"Viola\",\n",
    "        \"Surname\": \"Shepherd\",\n",
    "        \"Age\": 18\n",
    "    }\n",
    "]"
   ]
  },
  {
   "cell_type": "code",
   "execution_count": 25,
   "metadata": {},
   "outputs": [
    {
     "name": "stdout",
     "output_type": "stream",
     "text": [
      "[{'Name': 'Rosalind', 'Surname': 'Rich', 'Age': 23}, {'Name': 'Annika', 'Surname': 'Keenan', 'Age': 28}, {'Name': 'Kourtney', 'Surname': 'Pate', 'Age': 30}, {'Name': 'Virgil', 'Surname': 'Solomon', 'Age': 40}, {'Name': 'Bobby', 'Surname': 'Jordan', 'Age': 33}, {'Name': 'Isla', 'Surname': 'Grace Tran', 'Age': 64}, {'Name': 'Arif', 'Surname': 'Rivas', 'Age': 43}, {'Name': 'Zakaria', 'Surname': 'Whitehead', 'Age': 82}, {'Name': 'Casper', 'Surname': 'Velasquez', 'Age': 57}, {'Name': 'Caoimhe', 'Surname': 'Ali', 'Age': 34}]\n"
     ]
    }
   ],
   "source": [
    "print(list(filter(lambda user: user [\"Age\"] > 20, myUsers)))"
   ]
  },
  {
   "cell_type": "code",
   "execution_count": 26,
   "metadata": {},
   "outputs": [
    {
     "name": "stdout",
     "output_type": "stream",
     "text": [
      "[{'Name': 'Annika', 'Surname': 'Keenan', 'Age': 28}, {'Name': 'Alfie', 'Surname': 'James Robson', 'Age': 16}, {'Name': 'Arif', 'Surname': 'Rivas', 'Age': 43}]\n"
     ]
    }
   ],
   "source": [
    "print(list(filter(lambda user: user [\"Name\"][0]== \"A\", myUsers)))\n",
    "# print(list(filter(lambda user: user [\"Name\"].startswith== \"A\", myUsers)))"
   ]
  },
  {
   "cell_type": "code",
   "execution_count": 28,
   "metadata": {},
   "outputs": [
    {
     "name": "stdout",
     "output_type": "stream",
     "text": [
      "[{'Name': 'Bobby', 'Surname': 'Jordan', 'Age': 33}, {'Name': 'Alfie', 'Surname': 'James Robson', 'Age': 16}]\n"
     ]
    }
   ],
   "source": [
    "print(list(filter(lambda user: user[\"Surname\"].upper().startswith('J') , myUsers)))"
   ]
  },
  {
   "cell_type": "code",
   "execution_count": 29,
   "metadata": {},
   "outputs": [
    {
     "ename": "KeyError",
     "evalue": "'surname'",
     "output_type": "error",
     "traceback": [
      "\u001b[1;31m---------------------------------------------------------------------------\u001b[0m",
      "\u001b[1;31mKeyError\u001b[0m                                  Traceback (most recent call last)",
      "Cell \u001b[1;32mIn [29], line 3\u001b[0m\n\u001b[0;32m      1\u001b[0m \u001b[39mdef\u001b[39;00m \u001b[39mmyFilterFunction\u001b[39m(user):\n\u001b[0;32m      2\u001b[0m     \u001b[39mreturn\u001b[39;00m user [\u001b[39m\"\u001b[39m\u001b[39msurname\u001b[39m\u001b[39m\"\u001b[39m]\u001b[39m.\u001b[39mupper()\u001b[39m.\u001b[39mstartswith(\u001b[39m'\u001b[39m\u001b[39mJ\u001b[39m\u001b[39m'\u001b[39m) \n\u001b[1;32m----> 3\u001b[0m \u001b[39mprint\u001b[39m(\u001b[39mlist\u001b[39m(\u001b[39mfilter\u001b[39m (myFilterFunction,myUsers)))\n",
      "Cell \u001b[1;32mIn [29], line 2\u001b[0m, in \u001b[0;36mmyFilterFunction\u001b[1;34m(user)\u001b[0m\n\u001b[0;32m      1\u001b[0m \u001b[39mdef\u001b[39;00m \u001b[39mmyFilterFunction\u001b[39m(user):\n\u001b[1;32m----> 2\u001b[0m     \u001b[39mreturn\u001b[39;00m user [\u001b[39m\"\u001b[39;49m\u001b[39msurname\u001b[39;49m\u001b[39m\"\u001b[39;49m]\u001b[39m.\u001b[39mupper()\u001b[39m.\u001b[39mstartswith(\u001b[39m'\u001b[39m\u001b[39mJ\u001b[39m\u001b[39m'\u001b[39m)\n",
      "\u001b[1;31mKeyError\u001b[0m: 'surname'"
     ]
    }
   ],
   "source": [
    "def myFilterFunction(user):\n",
    "    return user [\"surname\"].upper().startswith('J') \n",
    "print(list(filter (myFilterFunction,myUsers)))"
   ]
  },
  {
   "cell_type": "code",
   "execution_count": 31,
   "metadata": {},
   "outputs": [
    {
     "ename": "TypeError",
     "evalue": "filter expected 2 arguments, got 1",
     "output_type": "error",
     "traceback": [
      "\u001b[1;31m---------------------------------------------------------------------------\u001b[0m",
      "\u001b[1;31mTypeError\u001b[0m                                 Traceback (most recent call last)",
      "Cell \u001b[1;32mIn [31], line 1\u001b[0m\n\u001b[1;32m----> 1\u001b[0m \u001b[39mprint\u001b[39m(\u001b[39mlist\u001b[39m(\u001b[39mfilter\u001b[39m(\u001b[39mlambda\u001b[39;00m user: user[\u001b[39m\"\u001b[39m\u001b[39mName\u001b[39m\u001b[39m\"\u001b[39m]\u001b[39m.\u001b[39mupper()\u001b[39m.\u001b[39mstartswith(\u001b[39m'\u001b[39m\u001b[39mC\u001b[39m\u001b[39m'\u001b[39m) \u001b[39mand\u001b[39;00m user[\u001b[39m\"\u001b[39m\u001b[39mSurname\u001b[39m\u001b[39m\"\u001b[39m]\u001b[39m.\u001b[39mupper()\u001b[39m.\u001b[39mstartswith(\u001b[39m'\u001b[39m\u001b[39mA\u001b[39m\u001b[39m'\u001b[39m))))\n",
      "\u001b[1;31mTypeError\u001b[0m: filter expected 2 arguments, got 1"
     ]
    }
   ],
   "source": [
    "print(list(filter(lambda user: user[\"Name\"].upper().startswith('C') and user[\"Surname\"].upper().startswith('A'))))"
   ]
  },
  {
   "cell_type": "code",
   "execution_count": 34,
   "metadata": {},
   "outputs": [
    {
     "name": "stdout",
     "output_type": "stream",
     "text": [
      "[{'Name': 'Rosalind', 'Surname': 'Rich', 'Age': 23}, {'Name': 'Annika', 'Surname': 'Keenan', 'Age': 28}, {'Name': 'Alfie', 'Surname': 'James Robson', 'Age': 16}, {'Name': 'Isla', 'Surname': 'Grace Tran', 'Age': 64}, {'Name': 'Arif', 'Surname': 'Rivas', 'Age': 43}, {'Name': 'Zakaria', 'Surname': 'Whitehead', 'Age': 82}, {'Name': 'Casper', 'Surname': 'Velasquez', 'Age': 57}, {'Name': 'Caoimhe', 'Surname': 'Ali', 'Age': 34}, {'Name': 'Viola', 'Surname': 'Shepherd', 'Age': 18}]\n"
     ]
    }
   ],
   "source": [
    "print(list(filter(lambda user: 'a' in user[\"Name\"].lower(), myUsers)))"
   ]
  },
  {
   "cell_type": "code",
   "execution_count": 36,
   "metadata": {},
   "outputs": [
    {
     "name": "stdout",
     "output_type": "stream",
     "text": [
      "[{'Name': 'Rosalind', 'Surname': 'Rich', 'Age': 23}, {'Name': 'Emillie', 'Surname': 'Plummer', 'Age': 17}, {'Name': 'Bobby', 'Surname': 'Jordan', 'Age': 33}, {'Name': 'Arif', 'Surname': 'Rivas', 'Age': 43}, {'Name': 'Casper', 'Surname': 'Velasquez', 'Age': 57}]\n"
     ]
    }
   ],
   "source": [
    "print(list(filter(lambda user: user[\"Age\"] % 2 != 0, myUsers)))"
   ]
  },
  {
   "cell_type": "code",
   "execution_count": null,
   "metadata": {},
   "outputs": [],
   "source": [
    "my.Users.update()="
   ]
  },
  {
   "cell_type": "markdown",
   "metadata": {},
   "source": [
    "Kullanıcıdan alınan string ifadedeki karakterlerin kaç kere tekrar ettiğini tutan bir dictionary oluşturunuz.\n",
    "\n",
    "sisterslab için örnek çıktı şu şekilde olmalıdır\n",
    "\n",
    "{'s': 3, 'r': 1, 'e': 1, 'l': 1, 'b': 1, 't': 1, 'a': 1, 'i': 1}"
   ]
  },
  {
   "cell_type": "code",
   "execution_count": null,
   "metadata": {},
   "outputs": [],
   "source": [
    "userInput = input()\n",
    "\n",
    "characterCountDict = {}\n",
    "\n",
    "for character in userInput:\n",
    "  if character in characterCountDict:\n",
    "    characterCountDict[character] += 1\n",
    "  else:\n",
    "    characterCountDict[character] = 1\n",
    "\n",
    "print(characterCountDict)\n"
   ]
  }
 ],
 "metadata": {
  "kernelspec": {
   "display_name": "Python 3.10.5 64-bit",
   "language": "python",
   "name": "python3"
  },
  "language_info": {
   "codemirror_mode": {
    "name": "ipython",
    "version": 3
   },
   "file_extension": ".py",
   "mimetype": "text/x-python",
   "name": "python",
   "nbconvert_exporter": "python",
   "pygments_lexer": "ipython3",
   "version": "3.10.5"
  },
  "orig_nbformat": 4,
  "vscode": {
   "interpreter": {
    "hash": "62152218f5ae77fab72cd74f672204b070f3d26a6c6ea88577bcd7d0571ecb6a"
   }
  }
 },
 "nbformat": 4,
 "nbformat_minor": 2
}
