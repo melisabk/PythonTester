{
 "cells": [
  {
   "cell_type": "code",
   "execution_count": 17,
   "metadata": {},
   "outputs": [
    {
     "name": "stdout",
     "output_type": "stream",
     "text": [
      "[0, 1, 2, 3, 4, 5, 6, 7, 8, 9, 10, 11, 12, 13, 14, 15, 16, 17, 18, 19, 20, 21, 22, 23, 24, 25, 26, 27, 28, 29, 30, 31, 32, 33, 34, 35, 36, 37, 38, 39, 40, 41, 42, 43, 44, 45, 46, 47, 48, 49, 50, 51, 52, 53, 54, 55, 56, 57, 58, 59, 60, 61, 62, 63, 64, 65, 66, 67, 68, 69, 70, 71, 72, 73, 74, 75, 76, 77, 78, 79, 80, 81, 82, 83, 84, 85, 86, 87, 88, 89, 90, 91, 92, 93, 94, 95, 96, 97, 98, 99]\n"
     ]
    }
   ],
   "source": [
    "#Selection sort algoritması-ayse\n",
    "\n",
    "import random\n",
    "\n",
    "list_length = 100\n",
    "my_list = [i for i in range (0, list_length)]\n",
    "random.shuffle(my_list)\n",
    "\n",
    "\n",
    "for outer_index in range(list_length):\n",
    "    current_minimum_index = outer_index\n",
    "    for inner_index in range (outer_index, list_length):\n",
    "        if my_list[current_minimum_index] > my_list[inner_index]:\n",
    "            current_minimum_index = inner_index\n",
    "    my_list[outer_index], my_list[current_minimum_index] = my_list [current_minimum_index], my_list[outer_index]\n",
    "\n",
    "print(my_list)\n",
    "\n"
   ]
  },
  {
   "cell_type": "code",
   "execution_count": 13,
   "metadata": {},
   "outputs": [
    {
     "name": "stdout",
     "output_type": "stream",
     "text": [
      "[0, 1, 2, 3, 4, 5, 6, 7, 8, 9, 10, 11, 12, 13, 14, 15, 16, 17, 18, 19, 20, 21, 22, 23, 24, 25, 26, 27, 28, 29, 30, 31, 32, 33, 34, 35, 36, 37, 38, 39, 40, 41, 42, 43, 44, 45, 46, 47, 48, 49, 50, 51, 52, 53, 54, 55, 56, 57, 58, 59, 60, 61, 62, 63, 64, 65, 66, 67, 68, 69, 70, 71, 72, 73, 74, 75, 76, 77, 78, 79, 80, 81, 82, 83, 84, 85, 86, 87, 88, 89, 90, 91, 92, 93, 94, 95, 96, 97, 98, 99]\n"
     ]
    }
   ],
   "source": [
    "import random\n",
    "\n",
    "list_length = 100\n",
    "my_list = [i for i in range (0, list_length)]\n",
    "random.shuffle(my_list)\n",
    "\n",
    "\n",
    "def selection_sort(my_list):  \n",
    "    list_length = 100 \n",
    "      \n",
    "    for i in range(list_length-1):  \n",
    "        min_value = i  \n",
    "          \n",
    "        for j in range(i+1, list_length):  \n",
    "            if my_list[j]<my_list[min_value]:  \n",
    "                min_value = j  \n",
    "                  \n",
    "        my_list[i], my_list[min_value] = my_list[min_value], my_list[i]  \n",
    "          \n",
    "          \n",
    "    return my_list      \n",
    "\n",
    "  \n",
    "print(selection_sort(my_list)) "
   ]
  },
  {
   "cell_type": "code",
   "execution_count": 21,
   "metadata": {},
   "outputs": [
    {
     "name": "stdout",
     "output_type": "stream",
     "text": [
      "[0, 1, 2, 3, 4, 5, 6, 7, 8, 9, 10, 11, 12, 13, 14, 15, 16, 17, 18, 19, 20, 21, 22, 23, 24, 25, 26, 27, 28, 29, 30, 31, 32, 33, 34, 35, 36, 37, 38, 39, 40, 41, 42, 43, 44, 45, 46, 47, 48, 49, 50, 51, 52, 53, 54, 55, 56, 57, 58, 59, 60, 61, 62, 63, 64, 65, 66, 67, 68, 69, 70, 71, 72, 73, 74, 75, 76, 77, 78, 79, 80, 81, 82, 83, 84, 85, 86, 87, 88, 89, 90, 91, 92, 93, 94, 95, 96, 97, 98, 99]\n"
     ]
    }
   ],
   "source": [
    "#bubble sort algorithm\n",
    "\n",
    "import random\n",
    "\n",
    "list_length = 100\n",
    "my_list = [i for i in range (0, list_length)]\n",
    "random.shuffle(my_list)\n",
    "\n",
    "def bubble_sort(my_list):\n",
    "    list_length = 100\n",
    "    for i in range(list_length-1):\n",
    "        count= 0\n",
    "        for j in range(0, list_length-i-1):\n",
    "            if my_list[j] > my_list[j+1]:\n",
    "                my_list[j+1], my_list[j] = my_list[j], my_list[j+1]\n",
    "                count= 1\n",
    "                if count== 0:\n",
    "                    break\n",
    "    return my_list\n",
    "\n",
    "print(bubble_sort(my_list))\n",
    "\n"
   ]
  },
  {
   "cell_type": "code",
   "execution_count": 24,
   "metadata": {},
   "outputs": [
    {
     "name": "stdout",
     "output_type": "stream",
     "text": [
      "[25, 66, 7, 22, 65, 48, 71, 83, 35, 21, 40, 74, 16, 96, 12, 9, 75, 58, 53, 18, 67, 94, 77, 50, 45, 2, 64, 55, 19, 20, 95, 68, 1, 0, 78, 80, 70, 32, 84, 59, 69, 76, 17, 98, 90, 60, 28, 37, 39, 91, 93, 24, 63, 82, 23, 41, 13, 26, 47, 44, 73, 87, 3, 33, 15, 30, 52, 43, 61, 54, 10, 31, 81, 97, 85, 8, 88, 92, 79, 56, 51, 86, 99, 11, 57, 46, 4, 49, 29, 62, 5, 89, 34, 38, 42, 72, 6, 27, 36, 14]\n",
      "[0, 1, 2, 3, 4, 5, 6, 7, 8, 9, 10, 11, 12, 13, 14, 15, 16, 17, 18, 19, 20, 21, 22, 23, 24, 25, 26, 27, 28, 29, 30, 31, 32, 33, 34, 35, 36, 37, 38, 39, 40, 41, 42, 43, 44, 45, 46, 47, 48, 49, 50, 51, 52, 53, 54, 55, 56, 57, 58, 59, 60, 61, 62, 63, 64, 65, 66, 67, 68, 69, 70, 71, 72, 73, 74, 75, 76, 77, 78, 79, 80, 81, 82, 83, 84, 85, 86, 87, 88, 89, 90, 91, 92, 93, 94, 95, 96, 97, 98, 99]\n"
     ]
    }
   ],
   "source": [
    "#bubble sort ayşe çözüm \n",
    "\n",
    "import random\n",
    "\n",
    "list_length = 100\n",
    "my_list = [i for i in range (0, list_length)]\n",
    "random.shuffle(my_list)\n",
    "print(my_list)\n",
    "\n",
    "for outer_index in range(list_length):\n",
    "    for inner_index in range(0, list_length -1):\n",
    "        if my_list[inner_index] > my_list[inner_index + 1]:\n",
    "             my_list[inner_index], my_list[inner_index+1]  =  my_list[inner_index +1], my_list[inner_index]\n",
    "        \n",
    "print(my_list)\n",
    "    "
   ]
  },
  {
   "cell_type": "code",
   "execution_count": 43,
   "metadata": {},
   "outputs": [
    {
     "name": "stdout",
     "output_type": "stream",
     "text": [
      "[96, 15, 26, 41, 6, 39, 2, 59, 79, 38, 20, 85, 10, 31, 81, 23, 61, 4, 9, 51, 19, 58, 70, 78, 99, 47, 0, 53, 11, 94, 89, 82, 76, 66, 72, 27, 50, 93, 63, 46, 7, 22, 34, 48, 74, 44, 98, 18, 37, 56, 60, 69, 13, 25, 64, 91, 54, 35, 17, 12, 29, 57, 45, 68, 30, 8, 71, 95, 90, 55, 62, 28, 84, 32, 33, 86, 83, 16, 43, 87, 49, 65, 52, 3, 97, 92, 77, 75, 36, 5, 1, 40, 42, 24, 80, 88, 67, 73, 14, 21]\n",
      "[0, 1, 2, 3, 4, 5, 6, 7, 8, 9, 10, 11, 12, 13, 14, 15, 16, 17, 18, 19, 20, 21, 22, 23, 24, 25, 26, 27, 28, 29, 30, 31, 32, 33, 34, 35, 36, 37, 38, 39, 40, 41, 42, 43, 44, 45, 46, 47, 48, 49, 50, 51, 52, 53, 54, 55, 56, 57, 58, 59, 60, 61, 62, 63, 64, 65, 66, 67, 68, 69, 70, 71, 72, 73, 74, 75, 76, 77, 78, 79, 80, 81, 82, 83, 84, 85, 86, 87, 88, 89, 90, 91, 92, 93, 94, 95, 96, 97, 98, 99]\n"
     ]
    }
   ],
   "source": [
    "import random\n",
    "\n",
    "list_length = 100\n",
    "my_list = [i for i in range (0, list_length)]\n",
    "random.shuffle(my_list)\n",
    "print(my_list)\n",
    "\n",
    "def insertion_sort(my_list):\n",
    "\n",
    "    for i in range(1, list_length):\n",
    "        key = my_list[i]\n",
    "        j = i - 1\n",
    "                \n",
    "        while j >= 0 and key < my_list[j]:\n",
    "           my_list[j + 1] = my_list[j]\n",
    "           j = j - 1\n",
    "            \n",
    "        \n",
    "        my_list[j + 1] = key\n",
    "\n",
    "\n",
    "insertion_sort(my_list)\n",
    "print(my_list)\n",
    "\n"
   ]
  },
  {
   "cell_type": "code",
   "execution_count": 46,
   "metadata": {},
   "outputs": [
    {
     "name": "stdout",
     "output_type": "stream",
     "text": [
      "[81, 17, 26, 22, 21, 30, 85, 56, 31, 98, 92, 34, 27, 9, 10, 2, 70, 88, 64, 36, 39, 29, 95, 93, 87, 41, 65, 79, 53, 1, 74, 76, 50, 77, 0, 8, 69, 52, 44, 45, 37, 7, 99, 12, 16, 96, 25, 82, 11, 54, 46, 62, 28, 66, 63, 61, 4, 6, 84, 89, 14, 97, 40, 80, 90, 83, 20, 33, 49, 58, 42, 19, 72, 47, 15, 38, 32, 68, 73, 59, 51, 67, 60, 86, 71, 24, 57, 78, 3, 5, 75, 23, 94, 55, 35, 43, 91, 13, 48, 18]\n",
      "[0, 1, 2, 3, 4, 5, 6, 7, 8, 9, 10, 11, 12, 13, 14, 15, 16, 17, 18, 19, 20, 21, 22, 23, 24, 25, 26, 27, 28, 29, 30, 31, 32, 33, 34, 35, 36, 37, 38, 39, 40, 41, 42, 43, 44, 45, 46, 47, 48, 49, 50, 51, 52, 53, 54, 55, 56, 57, 58, 59, 60, 61, 62, 63, 64, 65, 66, 67, 68, 69, 70, 71, 72, 73, 74, 75, 76, 77, 78, 79, 80, 81, 82, 83, 84, 85, 86, 87, 88, 89, 90, 91, 92, 93, 94, 95, 96, 97, 98, 99]\n"
     ]
    }
   ],
   "source": [
    "#ayşe insertion sort \n",
    "\n",
    "import random\n",
    "\n",
    "list_length = 100\n",
    "my_list = [i for i in range (0, list_length)]\n",
    "random.shuffle(my_list)\n",
    "print(my_list)\n",
    "\n",
    "for outer_index in range(1, list_length):\n",
    "    for inner_index in range(outer_index):\n",
    "        if my_list[outer_index] < my_list[inner_index]:\n",
    "            currentValue = my_list.pop(outer_index)\n",
    "            my_list.insert(inner_index,currentValue)\n",
    "        \n",
    "\n",
    "print(my_list)"
   ]
  }
 ],
 "metadata": {
  "kernelspec": {
   "display_name": "Python 3.10.5 64-bit",
   "language": "python",
   "name": "python3"
  },
  "language_info": {
   "codemirror_mode": {
    "name": "ipython",
    "version": 3
   },
   "file_extension": ".py",
   "mimetype": "text/x-python",
   "name": "python",
   "nbconvert_exporter": "python",
   "pygments_lexer": "ipython3",
   "version": "3.10.5"
  },
  "orig_nbformat": 4,
  "vscode": {
   "interpreter": {
    "hash": "62152218f5ae77fab72cd74f672204b070f3d26a6c6ea88577bcd7d0571ecb6a"
   }
  }
 },
 "nbformat": 4,
 "nbformat_minor": 2
}
